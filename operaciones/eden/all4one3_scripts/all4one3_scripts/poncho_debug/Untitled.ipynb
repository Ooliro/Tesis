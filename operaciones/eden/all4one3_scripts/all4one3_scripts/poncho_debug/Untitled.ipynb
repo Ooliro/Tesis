{
 "cells": [
  {
   "cell_type": "code",
   "execution_count": 2,
   "id": "6530c4f5",
   "metadata": {},
   "outputs": [],
   "source": [
    "import sys\n",
    "import pandas as pd\n",
    "# Sacar el diccionario de clados\n",
    "\n",
    "#taxfile = sys.argv[1] # Tabla de clados en 2 columnas\n",
    "#countfile = sys.argv[2]  # Tabla de frecuencias con Spp\n",
    "#taxdict = (\"tax_clade.tab\")\n",
    "\n",
    "taxfile = pd.read_table(\"tax_clades.tab\",\n",
    "                       names=['Clade', 'Spp'] # Tabla de clados en 2 columnas\n",
    "                       #header=None\n",
    "                       )\n",
    "countfile = pd.read_table(\"frequencies.csv\",\n",
    "                         names=['Spp', 'TaxID', 'Freqs'])  # Tabla de frecuencias con Spp\n"
   ]
  },
  {
   "cell_type": "code",
   "execution_count": 3,
   "id": "57f4be5a",
   "metadata": {},
   "outputs": [],
   "source": [
    "taxfile['new_Clade'] = taxfile['Spp'].isin(countfile['Spp'])"
   ]
  },
  {
   "cell_type": "code",
   "execution_count": 4,
   "id": "9a1c378d",
   "metadata": {},
   "outputs": [
    {
     "data": {
      "text/plain": [
       "0      True\n",
       "1      True\n",
       "2      True\n",
       "3      True\n",
       "4      True\n",
       "       ... \n",
       "253    True\n",
       "254    True\n",
       "255    True\n",
       "256    True\n",
       "257    True\n",
       "Name: new_Clade, Length: 258, dtype: bool"
      ]
     },
     "execution_count": 4,
     "metadata": {},
     "output_type": "execute_result"
    }
   ],
   "source": [
    "taxfile['new_Clade']"
   ]
  }
 ],
 "metadata": {
  "kernelspec": {
   "display_name": "Python 3 (ipykernel)",
   "language": "python",
   "name": "python3"
  },
  "language_info": {
   "codemirror_mode": {
    "name": "ipython",
    "version": 3
   },
   "file_extension": ".py",
   "mimetype": "text/x-python",
   "name": "python",
   "nbconvert_exporter": "python",
   "pygments_lexer": "ipython3",
   "version": "3.9.12"
  }
 },
 "nbformat": 4,
 "nbformat_minor": 5
}
