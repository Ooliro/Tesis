{
 "cells": [
  {
   "cell_type": "code",
   "execution_count": 1,
   "id": "e39220ab",
   "metadata": {},
   "outputs": [
    {
     "data": {
      "text/plain": [
       "'/home/raulrosas/Documentos/IFC/lab/eden/cgch_ops/maze'"
      ]
     },
     "execution_count": 1,
     "metadata": {},
     "output_type": "execute_result"
    }
   ],
   "source": [
    "pwd"
   ]
  },
  {
   "cell_type": "code",
   "execution_count": 2,
   "id": "6c8eded6",
   "metadata": {},
   "outputs": [
    {
     "name": "stdout",
     "output_type": "stream",
     "text": [
      "        GenName         TransID      GenID          ProtID   TaxID  \\\n",
      "0  LOC119385856  XM_049414136.1  119385856  XP_049270093.1   34632   \n",
      "1  LOC119385856  XM_049414136.1  119385856  XP_049270093.1   34632   \n",
      "2          chs1  XM_027024980.2  113586674  XP_026880781.2    8005   \n",
      "3          chs1  XM_027024980.2  113586674  XP_026880781.2    8005   \n",
      "4  LOC122622390  XM_043800798.1  122622390  XP_043656733.1    7243   \n",
      "5  LOC122622390  XM_043800800.1  122622390  XP_043656735.1    7243   \n",
      "6    LOC6647074  XM_015177336.2    6647074  XP_015032822.1    7260   \n",
      "7  LOC120454543  XM_039639922.1  120454543  XP_039495856.1  129105   \n",
      "8  LOC108032909  XM_017106971.2  108032909  XP_016962460.1     NaN   \n",
      "9  LOC108032909  XM_017106972.3  108032909  XP_016962461.1     NaN   \n",
      "\n",
      "                        Spp  \n",
      "0  Rhipicephalus sanguineus  \n",
      "1  Rhipicephalus sanguineus  \n",
      "2  Electrophorus electricus  \n",
      "3  Electrophorus electricus  \n",
      "4      Drosophila teissieri  \n",
      "5      Drosophila teissieri  \n",
      "6     Drosophila willistoni  \n",
      "7       Drosophila santomea  \n",
      "8                       NaN  \n",
      "9                       NaN  \n"
     ]
    }
   ],
   "source": [
    "import pandas as pd\n",
    "import sys \n",
    "\n",
    "#archivo = sys.argv[1]\n",
    "#data = pd.read_table(archivo, header = None)\n",
    "data = pd.read_table(\"/home/raulrosas/Documentos/IFC/lab/eden/cgch_ops/maze/resultados/gtf_ordered.csv\", \n",
    "                    names=['GenName', 'TransID', 'GenID', 'ProtID', 'TaxID', 'Spp'],\n",
    "                    na_values=True,\n",
    "                    dtype={'TaxID':object, 'GenID':object})\n",
    "print(data.head(n=10))"
   ]
  },
  {
   "cell_type": "code",
   "execution_count": 3,
   "id": "38ab1e85",
   "metadata": {
    "scrolled": true
   },
   "outputs": [
    {
     "name": "stdout",
     "output_type": "stream",
     "text": [
      "<class 'pandas.core.frame.DataFrame'>\n",
      "RangeIndex: 3542 entries, 0 to 3541\n",
      "Data columns (total 6 columns):\n",
      " #   Column   Non-Null Count  Dtype \n",
      "---  ------   --------------  ----- \n",
      " 0   GenName  3542 non-null   object\n",
      " 1   TransID  3542 non-null   object\n",
      " 2   GenID    3542 non-null   object\n",
      " 3   ProtID   3542 non-null   object\n",
      " 4   TaxID    2940 non-null   object\n",
      " 5   Spp      2940 non-null   object\n",
      "dtypes: object(6)\n",
      "memory usage: 166.2+ KB\n"
     ]
    }
   ],
   "source": [
    "data.info()"
   ]
  },
  {
   "cell_type": "code",
   "execution_count": 4,
   "id": "49df3307",
   "metadata": {},
   "outputs": [],
   "source": [
    "# Esta parte es para normalizar la columna de taxID a int64 porque por alguna razón los manejaba como float\n",
    "#data['TaxID']= data['TaxID'.astype(int64) ]\n",
    "#print(data.head(n=10))"
   ]
  },
  {
   "cell_type": "code",
   "execution_count": 5,
   "id": "963812c5",
   "metadata": {},
   "outputs": [
    {
     "name": "stdout",
     "output_type": "stream",
     "text": [
      "Tus resultados iniciales totales son: 3542\n",
      "Tus resultados finales son: 1946\n"
     ]
    }
   ],
   "source": [
    "#Inicio\n",
    "data_inicial=len(data)\n",
    "print(\"Tus resultados iniciales totales son:\", data_inicial)\n",
    "\n",
    "#Objetivo:c Filtrar por GenID\n",
    "pure_data = data.drop_duplicates(subset='GenID',keep='first')\n",
    "data_final = len(pure_data)\n",
    "print(\"Tus resultados finales son:\", data_final)\n"
   ]
  },
  {
   "cell_type": "code",
   "execution_count": 6,
   "id": "90a1b1bb",
   "metadata": {},
   "outputs": [
    {
     "name": "stdout",
     "output_type": "stream",
     "text": [
      "         GenName         TransID      GenID          ProtID    TaxID  \\\n",
      "0   LOC119385856  XM_049414136.1  119385856  XP_049270093.1    34632   \n",
      "2           chs1  XM_027024980.2  113586674  XP_026880781.2     8005   \n",
      "4   LOC122622390  XM_043800798.1  122622390  XP_043656733.1     7243   \n",
      "6     LOC6647074  XM_015177336.2    6647074  XP_015032822.1     7260   \n",
      "7   LOC120454543  XM_039639922.1  120454543  XP_039495856.1   129105   \n",
      "8   LOC108032909  XM_017106971.2  108032909  XP_016962460.1      NaN   \n",
      "11  LOC117142251  XM_033306109.1  117142251  XP_033162000.1     7226   \n",
      "12    LOC6613934  XM_032720317.1    6613934  XP_032576208.1     7238   \n",
      "19   Dmel_CG2666     NM_079509.3      45884     NP_524233.1     7227   \n",
      "21   LOC27207284  XM_016183003.3   27207284  XP_016033301.1     7240   \n",
      "24    LOC6535398  XM_015191648.3    6535398  XP_015047134.1     7245   \n",
      "26  LOC108011245  XM_036818980.1  108011245  XP_036674875.1    28584   \n",
      "28    LOC6500499  XM_014911100.3    6500499  XP_014766586.1     7217   \n",
      "31  LOC119559876  XM_037873006.1  119559876  XP_037728934.1  1486046   \n",
      "33  LOC108156158  XM_017287482.2  108156158  XP_017142971.1     7229   \n",
      "44    LOC4802475  XM_003736692.3    4802475  XP_003736740.2     7237   \n",
      "53  LOC117899175  XM_034809035.1  117899175  XP_034664926.1     7241   \n",
      "54  LOC117789806  XM_034628941.1  117789806  XP_034484832.1   198719   \n",
      "55  LOC108603280  XM_017991941.1  108603280  XP_017847430.1    30019   \n",
      "57  LOC117576047  XM_034260572.2  117576047  XP_034116463.2     7291   \n",
      "\n",
      "                         Spp  \n",
      "0   Rhipicephalus sanguineus  \n",
      "2   Electrophorus electricus  \n",
      "4       Drosophila teissieri  \n",
      "6      Drosophila willistoni  \n",
      "7        Drosophila santomea  \n",
      "8                        NaN  \n",
      "11     Drosophila mauritiana  \n",
      "12      Drosophila sechellia  \n",
      "19   Drosophila melanogaster  \n",
      "21       Drosophila simulans  \n",
      "24         Drosophila yakuba  \n",
      "26        Drosophila suzukii  \n",
      "28      Drosophila ananassae  \n",
      "31  Drosophila subpulchrella  \n",
      "33        Drosophila miranda  \n",
      "44  Drosophila pseudoobscura  \n",
      "53     Drosophila subobscura  \n",
      "54       Drosophila innubila  \n",
      "55        Drosophila busckii  \n",
      "57     Drosophila albomicans  \n"
     ]
    }
   ],
   "source": [
    "print(pure_data.head(n=20))"
   ]
  },
  {
   "cell_type": "code",
   "execution_count": 20,
   "id": "d20a477e",
   "metadata": {},
   "outputs": [
    {
     "name": "stdout",
     "output_type": "stream",
     "text": [
      "Spp                     TaxID  \n",
      "Crassostrea virginica   6565       28\n",
      "Crassostrea gigas       29159      26\n",
      "Branchiostoma floridae  7739       22\n",
      "Gigantopelta aegis      1735272    22\n",
      "Salmo trutta            8032       18\n",
      "Acipenser ruthenus      7906       17\n",
      "Octopus sinensis        2607531    15\n",
      "Pecten maximus          6579       14\n",
      "Petromyzon marinus      7757       14\n",
      "Carassius auratus       7957       14\n",
      "dtype: int64 Numero de especies unicas: 377\n"
     ]
    }
   ],
   "source": [
    "count_uniqs= pure_data.groupby(['Spp', 'TaxID']).size().sort_values(ascending=False)\n",
    "#uniq_len=len(count_uniqs)\n",
    "\n",
    "print(count_uniqs.head(n=10),\n",
    "      \"Numero de especies unicas:\", uniq_len)"
   ]
  },
  {
   "cell_type": "code",
   "execution_count": null,
   "id": "9d9c771e",
   "metadata": {},
   "outputs": [],
   "source": []
  },
  {
   "cell_type": "code",
   "execution_count": 8,
   "id": "0d68d8b3",
   "metadata": {},
   "outputs": [],
   "source": [
    "#Final y escritura\n",
    "#pure_data.to_csv('no_duplicates.csv', index=False, header=False, sep='\\t')\n",
    "#count_uniqs.to_csv('frequencies.csv', header=False, sep='\\t')\n"
   ]
  }
 ],
 "metadata": {
  "kernelspec": {
   "display_name": "Python 3 (ipykernel)",
   "language": "python",
   "name": "python3"
  },
  "language_info": {
   "codemirror_mode": {
    "name": "ipython",
    "version": 3
   },
   "file_extension": ".py",
   "mimetype": "text/x-python",
   "name": "python",
   "nbconvert_exporter": "python",
   "pygments_lexer": "ipython3",
   "version": "3.9.13"
  }
 },
 "nbformat": 4,
 "nbformat_minor": 5
}
