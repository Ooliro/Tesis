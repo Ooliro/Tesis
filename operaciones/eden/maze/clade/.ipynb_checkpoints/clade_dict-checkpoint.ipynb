{
 "cells": [
  {
   "cell_type": "code",
   "execution_count": 1,
   "id": "69db17d7",
   "metadata": {},
   "outputs": [
    {
     "data": {
      "text/plain": [
       "'/home/raulrosas/Documentos/IFC/lab/eden/cgch_ops/maze/clade'"
      ]
     },
     "execution_count": 1,
     "metadata": {},
     "output_type": "execute_result"
    }
   ],
   "source": [
    "pwd"
   ]
  },
  {
   "cell_type": "code",
   "execution_count": 3,
   "id": "b25ad369",
   "metadata": {},
   "outputs": [
    {
     "name": "stdout",
     "output_type": "stream",
     "text": [
      "alfonsostale.py  clade_dict.ipynb  poncho.py\r\n",
      "alfonso.txt      frequencies.csv   tax_clade.tab\r\n"
     ]
    }
   ],
   "source": [
    "ls"
   ]
  },
  {
   "cell_type": "code",
   "execution_count": null,
   "id": "96e15157",
   "metadata": {},
   "outputs": [],
   "source": [
    "import sys\n",
    "\n",
    "#¡Carga archivos!\n",
    "\n",
    "#tax_file=sys.argv[1]\n",
    "#count_file=sys.argv[2]\n",
    "\n",
    "tax_file = \"tax_clade.tab\"\n",
    "count_file = \"frequencies.csv\""
   ]
  },
  {
   "cell_type": "code",
   "execution_count": null,
   "id": "fe916f6d",
   "metadata": {},
   "outputs": [],
   "source": [
    "#Inicia el diccionario\n",
    "taxdict = {}\n",
    "with open(tax_file) as infile:\n",
    "    for line in infile:\n",
    "        line = line.strip()\n",
    "        if line == \"\":\n",
    "            continue\n",
    "        taxa, sp = line.split(\"\\t\")\n",
    "        taxdict[sp] = taxa\n",
    "\n",
    "outfilename = \"clade_freq.txt\"\n",
    "outfile = open(outfilename, \"w\")"
   ]
  },
  {
   "cell_type": "code",
   "execution_count": null,
   "id": "1467ee05",
   "metadata": {},
   "outputs": [],
   "source": [
    "with open(count_file) as infile:\n",
    "    for line in infile:\n",
    "        line = line.strip()\n",
    "        if line == \"\":\n",
    "            continue\n",
    "        data = line.split(\"\\t\")\n",
    "        if len(data) != 4:\n",
    "            continue\n",
    "        GeneID, TaxID, Spp, Count = line.split(\"\\t\")\n",
    "        newline = \"\\t\".join([taxdict[sp], sp, taxid, gid, count]) + \"\\n\"\n",
    "        outfile.write(newline)\n",
    "\n",
    "outfile.close()\n",
    "\n",
    "print(\"[DONE] :D\")"
   ]
  }
 ],
 "metadata": {
  "kernelspec": {
   "display_name": "Python 3 (ipykernel)",
   "language": "python",
   "name": "python3"
  },
  "language_info": {
   "codemirror_mode": {
    "name": "ipython",
    "version": 3
   },
   "file_extension": ".py",
   "mimetype": "text/x-python",
   "name": "python",
   "nbconvert_exporter": "python",
   "pygments_lexer": "ipython3",
   "version": "3.9.13"
  }
 },
 "nbformat": 4,
 "nbformat_minor": 5
}
