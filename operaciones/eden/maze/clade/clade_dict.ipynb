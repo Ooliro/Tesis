{
 "cells": [
  {
   "cell_type": "code",
   "execution_count": 1,
   "id": "5582e775",
   "metadata": {},
   "outputs": [
    {
     "data": {
      "text/plain": [
       "'/home/raulrosas/Documentos/IFC/lab/eden/cgch_ops/maze/clade'"
      ]
     },
     "execution_count": 1,
     "metadata": {},
     "output_type": "execute_result"
    }
   ],
   "source": [
    "pwd"
   ]
  },
  {
   "cell_type": "code",
   "execution_count": 2,
   "id": "cd38bf6b",
   "metadata": {},
   "outputs": [
    {
     "name": "stdout",
     "output_type": "stream",
     "text": [
      "alfonsostale.py  clade_dict.ipynb  frequencies.csv  poncho.py  tax_clade.tab\r\n"
     ]
    }
   ],
   "source": [
    "ls"
   ]
  },
  {
   "cell_type": "code",
   "execution_count": 9,
   "id": "77bfe386",
   "metadata": {},
   "outputs": [],
   "source": [
    "import sys\n",
    "import pandas as pd\n",
    "#¡Carga archivos!\n",
    "\n",
    "#tax_file=sys.argv[1]\n",
    "#count_file=sys.argv[2]\n",
    "\n",
    "tax_file=\"/home/raulrosas/Documentos/IFC/lab/eden/cgch_ops/maze/clade/tax_clade.tab\"\n",
    "count_file=\"/home/raulrosas/Documentos/IFC/lab/eden/cgch_ops/maze/clade/frequencies.csv\""
   ]
  },
  {
   "cell_type": "code",
   "execution_count": 11,
   "id": "90831df2",
   "metadata": {},
   "outputs": [],
   "source": [
    "with open(tax_file) as infile:\n",
    "    lst = tax_file[1:-1]\n",
    "    "
   ]
  },
  {
   "cell_type": "code",
   "execution_count": 12,
   "id": "725bab97",
   "metadata": {},
   "outputs": [
    {
     "name": "stdout",
     "output_type": "stream",
     "text": [
      "home/raulrosas/Documentos/IFC/lab/eden/cgch_ops/maze/clade/tax_clade.ta\n"
     ]
    }
   ],
   "source": [
    "print(lst)"
   ]
  },
  {
   "cell_type": "code",
   "execution_count": 10,
   "id": "375ca292",
   "metadata": {},
   "outputs": [
    {
     "ename": "AttributeError",
     "evalue": "'list' object has no attribute 'split'",
     "output_type": "error",
     "traceback": [
      "\u001b[0;31m---------------------------------------------------------------------------\u001b[0m",
      "\u001b[0;31mAttributeError\u001b[0m                            Traceback (most recent call last)",
      "\u001b[0;32m/tmp/ipykernel_48047/3411117264.py\u001b[0m in \u001b[0;36m<module>\u001b[0;34m\u001b[0m\n\u001b[1;32m      8\u001b[0m         \u001b[0mdata\u001b[0m \u001b[0;34m=\u001b[0m \u001b[0mline\u001b[0m\u001b[0;34m.\u001b[0m\u001b[0msplit\u001b[0m\u001b[0;34m(\u001b[0m\u001b[0;34m\"\\t\"\u001b[0m\u001b[0;34m)\u001b[0m\u001b[0;34m\u001b[0m\u001b[0;34m\u001b[0m\u001b[0m\n\u001b[1;32m      9\u001b[0m         \u001b[0mdata\u001b[0m\u001b[0;34m[\u001b[0m\u001b[0;36m1\u001b[0m\u001b[0;34m:\u001b[0m\u001b[0;34m-\u001b[0m\u001b[0;36m1\u001b[0m\u001b[0;34m]\u001b[0m\u001b[0;34m\u001b[0m\u001b[0;34m\u001b[0m\u001b[0m\n\u001b[0;32m---> 10\u001b[0;31m         \u001b[0mtaxa\u001b[0m\u001b[0;34m,\u001b[0m \u001b[0msp\u001b[0m \u001b[0;34m=\u001b[0m \u001b[0mdata\u001b[0m\u001b[0;34m.\u001b[0m\u001b[0msplit\u001b[0m\u001b[0;34m(\u001b[0m\u001b[0;34m\"\\t\"\u001b[0m\u001b[0;34m)\u001b[0m\u001b[0;34m\u001b[0m\u001b[0;34m\u001b[0m\u001b[0m\n\u001b[0m\u001b[1;32m     11\u001b[0m         \u001b[0mtaxdict\u001b[0m\u001b[0;34m[\u001b[0m\u001b[0msp\u001b[0m\u001b[0;34m]\u001b[0m \u001b[0;34m=\u001b[0m \u001b[0mtaxa\u001b[0m\u001b[0;34m\u001b[0m\u001b[0;34m\u001b[0m\u001b[0m\n\u001b[1;32m     12\u001b[0m \u001b[0;34m\u001b[0m\u001b[0m\n",
      "\u001b[0;31mAttributeError\u001b[0m: 'list' object has no attribute 'split'"
     ]
    }
   ],
   "source": [
    "#Inicia el diccionario\n",
    "taxdict = {}\n",
    "with open(tax_file) as infile:\n",
    "    for line in infile:\n",
    "        line = line.strip()\n",
    "        if line == \"\":\n",
    "            continue\n",
    "        data = line.split(\"\\t\")\n",
    "        data[1:-1]\n",
    "        taxa, sp = data.split(\"\\t\")\n",
    "        taxdict[sp] = taxa\n",
    "\n",
    "outfilename = \"clade_freq.txt\"\n",
    "outfile = open(outfilename, \"w\")"
   ]
  },
  {
   "cell_type": "code",
   "execution_count": null,
   "id": "7906d66c",
   "metadata": {},
   "outputs": [],
   "source": [
    "with open(count_file) as infile:\n",
    "    for line in infile:\n",
    "        line = line.strip()\n",
    "        if line == \"\":\n",
    "            continue\n",
    "        data = line.split(\"\\t\")\n",
    "        if len(data) != 4:\n",
    "            continue\n",
    "        GeneID, TaxID, Spp, Count = line.split(\"\\t\")\n",
    "        newline = \"\\t\".join([taxdict[sp], sp, taxid, gid, count]) + \"\\n\"\n",
    "        outfile.write(newline)\n",
    "\n",
    "outfile.close()\n",
    "\n",
    "print(\"[DONE] :D\")"
   ]
  },
  {
   "cell_type": "code",
   "execution_count": null,
   "id": "36c0e6bf",
   "metadata": {},
   "outputs": [],
   "source": []
  }
 ],
 "metadata": {
  "kernelspec": {
   "display_name": "Python 3 (ipykernel)",
   "language": "python",
   "name": "python3"
  },
  "language_info": {
   "codemirror_mode": {
    "name": "ipython",
    "version": 3
   },
   "file_extension": ".py",
   "mimetype": "text/x-python",
   "name": "python",
   "nbconvert_exporter": "python",
   "pygments_lexer": "ipython3",
   "version": "3.9.13"
  }
 },
 "nbformat": 4,
 "nbformat_minor": 5
}
