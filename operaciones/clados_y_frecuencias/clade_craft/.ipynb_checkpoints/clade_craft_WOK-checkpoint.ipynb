{
 "cells": [
  {
   "cell_type": "code",
   "execution_count": 5,
   "id": "cc4012c7",
   "metadata": {},
   "outputs": [],
   "source": [
    "#!/usr/bin/env python3\n",
    "\n",
    "\"\"\"This scritp extracts the paths from the leaves to the root in a ncbi taxonomy tree, narrow it to spp and clade, and finally append the clade column to an existing table\"\"\"\n",
    "\n",
    "# Argumentos de terminal:\n",
    "# arg1 = Arbol en formato phylip\n",
    "# arg2 = Archivo de frecuencias al que se le va a anexar la columna de clados\n",
    "\n",
    "# Primera parte: Corta hojas y raices\n",
    "\n",
    "from Bio import Phylo\n",
    "import sys\n",
    "\n",
    "# Read files from bash\n",
    "\n",
    "#arbol = open(sys.argv[1])\n",
    "\n",
    "# read tree\n",
    "tree = Phylo.read('cgch_mphylip.phy', 'newick')\n",
    "tree.ladderize()\n",
    "\n",
    "# get leaves\n",
    "leaves = tree.get_terminals()\n",
    "\n",
    "# get paths\n",
    "paths = []\n",
    "for leaf in leaves:\n",
    "    path = tree.get_path(leaf)\n",
    "    paths.append(path)\n",
    "\n",
    "# write to a file\n",
    "\n",
    "outfile_name = 'branch_leaf.txt'\n",
    "\n",
    "with open(outfile_name, 'w') as outf:\n",
    "    for path in paths:\n",
    "        names = [clade.name for clade in path]\n",
    "        line = '\\t'.join(names) + '\\n'\n",
    "        outf.write(line)\n",
    "\n",
    "#print(\"Parte 1: Bien!\")"
   ]
  },
  {
   "cell_type": "code",
   "execution_count": 6,
   "id": "067ce073",
   "metadata": {},
   "outputs": [
    {
     "name": "stdout",
     "output_type": "stream",
     "text": [
      "Parte 2: Bien!\n"
     ]
    }
   ],
   "source": [
    "# Segunda parte: Limpia ramas para quedarte con clados y spp\n",
    "\n",
    "import pandas\n",
    "\n",
    "archivo=open('branch_leaf.txt')\n",
    "\n",
    "myclades = []\n",
    "\n",
    "for line in archivo:\n",
    "    line = line.split(\"\\t\")\n",
    "    if len(line) == 2:\n",
    "        myclades.append((line[0], line[1]))\n",
    "    else:\n",
    "        myclades.append((line[1], line[-1]))\n",
    "\n",
    "save_file = open('tax_clades.tab', 'w+')\n",
    "\n",
    "for elemento in myclades:\n",
    "    linea = elemento[0] + \"\\t\" + elemento[1]\n",
    "    save_file.write(linea)\n",
    "save_file.close()\n",
    "\n",
    "print(\"Parte 2: Bien!\")\n",
    "\n"
   ]
  },
  {
   "cell_type": "code",
   "execution_count": 8,
   "id": "0751a0f5",
   "metadata": {},
   "outputs": [
    {
     "name": "stdout",
     "output_type": "stream",
     "text": [
      "Parte 3: Bien!\n"
     ]
    }
   ],
   "source": [
    "# Tercera parte: agrega la columa de clados al final de tu archivo objetivo\n",
    "\n",
    "# Carga archivos desde la linea de comandos\n",
    "\n",
    "#countfile = sys.argv[2]  # Tabla de frecuencias con Spp\n",
    "\n",
    "## Inicia el diccionario y acomoda las columnas\n",
    "taxdict1 = {}\n",
    "\n",
    "with open('tax_clades.tab') as infile:\n",
    "    for line in infile:\n",
    "        line = line.strip()\n",
    "        if line == \"\":\n",
    "            continue\n",
    "        clade, spp = line.split(\"\\t\")\n",
    "        taxdict1[spp] = clade\n",
    "\n",
    "## Prepara los archivos de salida\n",
    "\n",
    "outfilename = \"clades_n_freqs.tab\"\n",
    "outfile = open(outfilename, \"w\")\n",
    "\n",
    "## Con el diccionario, busca coincidencias dentro del archivo de frecuencias y agrega el clado al final\n",
    "with open('cgch_mfreq.csv') as infile:\n",
    "    for line in infile:\n",
    "        line = line.strip()\n",
    "        if line == \"\":\n",
    "            continue\n",
    "        data = line.split(\"\\t\")\n",
    "        if len(data) != 3:\n",
    "            continue\n",
    "        spp, taxid, freq = line.split(\"\\t\")\n",
    "        newline = \"\\t\".join([taxdict1[spp], spp, taxid, freq]) + \"\\n\"\n",
    "        outfile.write(newline)\n",
    "\n",
    "outfile.close()\n",
    "\n",
    "print(\"Parte 3: Bien!\")\n"
   ]
  },
  {
   "cell_type": "code",
   "execution_count": null,
   "id": "40c07439",
   "metadata": {},
   "outputs": [],
   "source": []
  }
 ],
 "metadata": {
  "kernelspec": {
   "display_name": "Python 3 (ipykernel)",
   "language": "python",
   "name": "python3"
  },
  "language_info": {
   "codemirror_mode": {
    "name": "ipython",
    "version": 3
   },
   "file_extension": ".py",
   "mimetype": "text/x-python",
   "name": "python",
   "nbconvert_exporter": "python",
   "pygments_lexer": "ipython3",
   "version": "3.9.13"
  }
 },
 "nbformat": 4,
 "nbformat_minor": 5
}
