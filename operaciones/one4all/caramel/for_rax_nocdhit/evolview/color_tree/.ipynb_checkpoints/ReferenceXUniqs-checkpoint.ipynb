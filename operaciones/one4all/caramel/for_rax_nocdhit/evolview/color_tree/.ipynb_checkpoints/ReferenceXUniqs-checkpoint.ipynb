{
 "cells": [
  {
   "cell_type": "code",
   "execution_count": 2,
   "id": "8b1ee44a-2df2-4628-9d7e-a48fe10642bc",
   "metadata": {},
   "outputs": [
    {
     "name": "stdout",
     "output_type": "stream",
     "text": [
      "\u001b[0m\u001b[01;34mcgchm_pretree\u001b[0m/     chromationV2.py          pos_tree.py    \u001b[01;34mthe_clades\u001b[0m/\n",
      "\u001b[01;34mcgchs_pretree\u001b[0m/     chromationV3.py          README.md      Untitled.ipynb\n",
      "chromationITOL.py  cleanmyannotation.ipynb  \u001b[01;34mscfm_pretree\u001b[0m/\n",
      "chromation.py      clean_n_color.sh         \u001b[01;34mscfs_pretree\u001b[0m/\n",
      "chromationV2_1.py  clean_pos_tree.py        taggin.py\n"
     ]
    }
   ],
   "source": [
    "ls"
   ]
  },
  {
   "cell_type": "code",
   "execution_count": 2,
   "id": "d4993a03-f045-45a6-b078-dca5361129d9",
   "metadata": {},
   "outputs": [],
   "source": [
    "import pandas as pd"
   ]
  },
  {
   "cell_type": "code",
   "execution_count": 5,
   "id": "c956880e-7465-4b26-a67a-bc2014158122",
   "metadata": {},
   "outputs": [],
   "source": [
    "# Read the two files into pandas dataframes, skipping the first line in each file\n",
    "\n",
    "reference = pd.read_csv(\"cgchm_pretree/itool_annotation.txt\", sep=\"\\t\", names=[\"COD\",\"Clade\"])\n",
    "\n",
    "# Archivo de uniques pasado por whtspc4tab.py, llamado ahora tabbed\n",
    "uniques=pd.read_csv('/home/raul/Documentos/IFC/lab/color_tree/tabbed.tab', skiprows=1, sep='\\t', names=['COD','Sequence'])\n",
    "\n",
    "# El bueno we\n",
    "# uniques = pd.read_csv('/home/raul/Documentos/IFC/repo/operaciones/one4all/caramel/for_rax_nocdhit/iqstuff/cgchm_pretree/cgchm_10gap.fa.uniqueseq.phy', skiprows=1, sep=\"\\t\", names=[\"COD\", \"Sequence\"])\n",
    "x= uniques.replace(\" +\",\"\\t\")"
   ]
  },
  {
   "cell_type": "code",
   "execution_count": 12,
   "id": "b51d99a1-881e-45f9-af92-aca562a52e9f",
   "metadata": {},
   "outputs": [
    {
     "data": {
      "text/html": [
       "<div>\n",
       "<style scoped>\n",
       "    .dataframe tbody tr th:only-of-type {\n",
       "        vertical-align: middle;\n",
       "    }\n",
       "\n",
       "    .dataframe tbody tr th {\n",
       "        vertical-align: top;\n",
       "    }\n",
       "\n",
       "    .dataframe thead th {\n",
       "        text-align: right;\n",
       "    }\n",
       "</style>\n",
       "<table border=\"1\" class=\"dataframe\">\n",
       "  <thead>\n",
       "    <tr style=\"text-align: right;\">\n",
       "      <th></th>\n",
       "      <th>COD</th>\n",
       "      <th>Clade</th>\n",
       "    </tr>\n",
       "  </thead>\n",
       "  <tbody>\n",
       "    <tr>\n",
       "      <th>0</th>\n",
       "      <td>dmeC1</td>\n",
       "      <td>Insecta</td>\n",
       "    </tr>\n",
       "    <tr>\n",
       "      <th>1</th>\n",
       "      <td>dmeN2</td>\n",
       "      <td>Insecta</td>\n",
       "    </tr>\n",
       "    <tr>\n",
       "      <th>2</th>\n",
       "      <td>hsaH4</td>\n",
       "      <td>Mammalia</td>\n",
       "    </tr>\n",
       "    <tr>\n",
       "      <th>3</th>\n",
       "      <td>hsaH5</td>\n",
       "      <td>Mammalia</td>\n",
       "    </tr>\n",
       "    <tr>\n",
       "      <th>4</th>\n",
       "      <td>hsaH6</td>\n",
       "      <td>Mammalia</td>\n",
       "    </tr>\n",
       "    <tr>\n",
       "      <th>...</th>\n",
       "      <td>...</td>\n",
       "      <td>...</td>\n",
       "    </tr>\n",
       "    <tr>\n",
       "      <th>1941</th>\n",
       "      <td>pplC1</td>\n",
       "      <td>Actinopteri</td>\n",
       "    </tr>\n",
       "    <tr>\n",
       "      <th>1942</th>\n",
       "      <td>pplH2</td>\n",
       "      <td>Actinopteri</td>\n",
       "    </tr>\n",
       "    <tr>\n",
       "      <th>1943</th>\n",
       "      <td>pplH3</td>\n",
       "      <td>Actinopteri</td>\n",
       "    </tr>\n",
       "    <tr>\n",
       "      <th>1944</th>\n",
       "      <td>pplH4</td>\n",
       "      <td>Actinopteri</td>\n",
       "    </tr>\n",
       "    <tr>\n",
       "      <th>1945</th>\n",
       "      <td>pplC5</td>\n",
       "      <td>Actinopteri</td>\n",
       "    </tr>\n",
       "  </tbody>\n",
       "</table>\n",
       "<p>1946 rows × 2 columns</p>\n",
       "</div>"
      ],
      "text/plain": [
       "        COD        Clade\n",
       "0     dmeC1      Insecta\n",
       "1     dmeN2      Insecta\n",
       "2     hsaH4     Mammalia\n",
       "3     hsaH5     Mammalia\n",
       "4     hsaH6     Mammalia\n",
       "...     ...          ...\n",
       "1941  pplC1  Actinopteri\n",
       "1942  pplH2  Actinopteri\n",
       "1943  pplH3  Actinopteri\n",
       "1944  pplH4  Actinopteri\n",
       "1945  pplC5  Actinopteri\n",
       "\n",
       "[1946 rows x 2 columns]"
      ]
     },
     "execution_count": 12,
     "metadata": {},
     "output_type": "execute_result"
    }
   ],
   "source": [
    "reference\n"
   ]
  },
  {
   "cell_type": "code",
   "execution_count": 6,
   "id": "4b133df9-455d-485c-b53f-efaf9a9aa4f0",
   "metadata": {},
   "outputs": [
    {
     "data": {
      "text/html": [
       "<div>\n",
       "<style scoped>\n",
       "    .dataframe tbody tr th:only-of-type {\n",
       "        vertical-align: middle;\n",
       "    }\n",
       "\n",
       "    .dataframe tbody tr th {\n",
       "        vertical-align: top;\n",
       "    }\n",
       "\n",
       "    .dataframe thead th {\n",
       "        text-align: right;\n",
       "    }\n",
       "</style>\n",
       "<table border=\"1\" class=\"dataframe\">\n",
       "  <thead>\n",
       "    <tr style=\"text-align: right;\">\n",
       "      <th></th>\n",
       "      <th>COD</th>\n",
       "      <th>Sequence</th>\n",
       "    </tr>\n",
       "  </thead>\n",
       "  <tbody>\n",
       "    <tr>\n",
       "      <th>0</th>\n",
       "      <td>sscH1</td>\n",
       "      <td>RASTFSCIMQKWGEVMYTAFKALGDSVDYIQVCDSDTVLDPACTFE...</td>\n",
       "    </tr>\n",
       "    <tr>\n",
       "      <th>1</th>\n",
       "      <td>tcaC1</td>\n",
       "      <td>KDKMKIRHRKRWSQVMYMYYLAVIAENTYLLTLDGDIDFQPSAVLL...</td>\n",
       "    </tr>\n",
       "    <tr>\n",
       "      <th>2</th>\n",
       "      <td>tcaC2</td>\n",
       "      <td>KDKKKIRAKKRWSQCMYMYFLEIRGENTYILALDGDIDFQPEALHL...</td>\n",
       "    </tr>\n",
       "    <tr>\n",
       "      <th>3</th>\n",
       "      <td>ecaH1</td>\n",
       "      <td>LSNKSICIMQKWGEVMYTAFRALGRSVDYVQVCDSDTMLDPASSVE...</td>\n",
       "    </tr>\n",
       "    <tr>\n",
       "      <th>4</th>\n",
       "      <td>xtrH1</td>\n",
       "      <td>LSNKNVCIMQKWGEVMYTAFKALGRSVDYVQVCDSDTVLDPASSVE...</td>\n",
       "    </tr>\n",
       "    <tr>\n",
       "      <th>...</th>\n",
       "      <td>...</td>\n",
       "      <td>...</td>\n",
       "    </tr>\n",
       "    <tr>\n",
       "      <th>1521</th>\n",
       "      <td>mdeC2</td>\n",
       "      <td>KDKNKIRHRKRWSQVMYMYYLAIIAENTYILTLDGDIDFQPNAVKV...</td>\n",
       "    </tr>\n",
       "    <tr>\n",
       "      <th>1522</th>\n",
       "      <td>pinC1</td>\n",
       "      <td>KDKAKIRHRKRWSQVMYMYYLEVMAENTYLLTLDGDIDFQPHAVRL...</td>\n",
       "    </tr>\n",
       "    <tr>\n",
       "      <th>1523</th>\n",
       "      <td>pinC2</td>\n",
       "      <td>KDKAKIRHRKRWSQVMYMYYLEVIAENTYLLALDGDIDFQPCAVTL...</td>\n",
       "    </tr>\n",
       "    <tr>\n",
       "      <th>1524</th>\n",
       "      <td>cquaC1</td>\n",
       "      <td>KDKSKIRHKKRWSQVMYMYYLEVIAENTFLLTLDGDIDFTPSAVAL...</td>\n",
       "    </tr>\n",
       "    <tr>\n",
       "      <th>1525</th>\n",
       "      <td>anilC1</td>\n",
       "      <td>KDKNKIRHKKRWSQVMYMYYLMVIAQNTYLLALDGDIDFQPNAVSL...</td>\n",
       "    </tr>\n",
       "  </tbody>\n",
       "</table>\n",
       "<p>1526 rows × 2 columns</p>\n",
       "</div>"
      ],
      "text/plain": [
       "         COD                                           Sequence\n",
       "0      sscH1  RASTFSCIMQKWGEVMYTAFKALGDSVDYIQVCDSDTVLDPACTFE...\n",
       "1      tcaC1  KDKMKIRHRKRWSQVMYMYYLAVIAENTYLLTLDGDIDFQPSAVLL...\n",
       "2      tcaC2  KDKKKIRAKKRWSQCMYMYFLEIRGENTYILALDGDIDFQPEALHL...\n",
       "3      ecaH1  LSNKSICIMQKWGEVMYTAFRALGRSVDYVQVCDSDTMLDPASSVE...\n",
       "4      xtrH1  LSNKNVCIMQKWGEVMYTAFKALGRSVDYVQVCDSDTVLDPASSVE...\n",
       "...      ...                                                ...\n",
       "1521   mdeC2  KDKNKIRHRKRWSQVMYMYYLAIIAENTYILTLDGDIDFQPNAVKV...\n",
       "1522   pinC1  KDKAKIRHRKRWSQVMYMYYLEVMAENTYLLTLDGDIDFQPHAVRL...\n",
       "1523   pinC2  KDKAKIRHRKRWSQVMYMYYLEVIAENTYLLALDGDIDFQPCAVTL...\n",
       "1524  cquaC1  KDKSKIRHKKRWSQVMYMYYLEVIAENTFLLTLDGDIDFTPSAVAL...\n",
       "1525  anilC1  KDKNKIRHKKRWSQVMYMYYLMVIAQNTYLLALDGDIDFQPNAVSL...\n",
       "\n",
       "[1526 rows x 2 columns]"
      ]
     },
     "execution_count": 6,
     "metadata": {},
     "output_type": "execute_result"
    }
   ],
   "source": [
    "uniques"
   ]
  },
  {
   "cell_type": "code",
   "execution_count": 7,
   "id": "ceb8b2f2-b352-46ae-a97a-2d7240e0ca2f",
   "metadata": {},
   "outputs": [
    {
     "name": "stdout",
     "output_type": "stream",
     "text": [
      "Unique lines saved to 'uniques.txt'\n"
     ]
    }
   ],
   "source": [
    "# Merge the two dataframes on the common column 'A1'\n",
    "merged_df = pd.merge(reference, uniques, on=['COD'], how='inner')\n",
    "\n",
    "# Save the result to a new file named 'uniques.txt'\n",
    "merged_df[['COD', 'Clade']].to_csv('uniques.txt', index=False, sep='\\t')  # Adjust 'sep' based on your preferred delimiter\n",
    "\n",
    "print(\"Unique lines saved to 'uniques.txt'\")"
   ]
  }
 ],
 "metadata": {
  "kernelspec": {
   "display_name": "Python 3 (ipykernel)",
   "language": "python",
   "name": "python3"
  },
  "language_info": {
   "codemirror_mode": {
    "name": "ipython",
    "version": 3
   },
   "file_extension": ".py",
   "mimetype": "text/x-python",
   "name": "python",
   "nbconvert_exporter": "python",
   "pygments_lexer": "ipython3",
   "version": "3.10.13"
  }
 },
 "nbformat": 4,
 "nbformat_minor": 5
}
