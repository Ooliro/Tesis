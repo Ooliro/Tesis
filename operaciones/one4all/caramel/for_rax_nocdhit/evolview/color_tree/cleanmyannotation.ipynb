{
 "cells": [
  {
   "cell_type": "code",
   "execution_count": null,
   "id": "e31f842f",
   "metadata": {},
   "outputs": [],
   "source": [
    "\"\"\"Script para reemplazar los múltiples espacios de las tablas resultado de hmmsearch por tabuladores.\"\"\"\n",
    "\n",
    "\n",
    "import re\n",
    "import sys\n",
    "\n",
    "#infile = input(\"File's absolute path:\") # Pregunta por la ubicación del archivo a convertir\n",
    "#tab = open(infile, 'r')\n",
    "#hmm_tab = tab.read()\n",
    "#tab.close()\n",
    "\n",
    "file_name = sys.argv[1]\n",
    "uwu = open(file_name)\n",
    "data = uwu.read()\n",
    "uwu.close()\n",
    "\n",
    "\n",
    "# Reemplaza los espacios simples por tabs.\n",
    "hmm_tab = re.sub(' +', ' ', data)\n",
    "\n",
    "final_tab = hmm_tab.replace(' ', '\\t')\n",
    "\n",
    "# Guarda tu archivo exceptuando la primera línea\n",
    "\n",
    "#output_file_path = \"tabbud.txt\"\n",
    "#with open(output_file_path, \"w+\") as output_file:\n",
    "#    for line in final_tab.splitlines(\"\\n\")[1:]:\n",
    "#        output_file.write(line)\n",
    "\n",
    "save_tab = open('tabbud.tab','w+')\n",
    "save_tab.writelines(final_tab)\n",
    "save_tab = save_tab.close()\n",
    "\n",
    "#print(\"Listo! busca tu nuevo archivo con el nombre de tabbed.tab\")\n",
    "\n",
    "# Guarda esta segunda tabla delimitada por tabs."
   ]
  }
 ],
 "metadata": {
  "kernelspec": {
   "display_name": "Python 3 (ipykernel)",
   "language": "python",
   "name": "python3"
  },
  "language_info": {
   "codemirror_mode": {
    "name": "ipython",
    "version": 3
   },
   "file_extension": ".py",
   "mimetype": "text/x-python",
   "name": "python",
   "nbconvert_exporter": "python",
   "pygments_lexer": "ipython3",
   "version": "3.9.17"
  }
 },
 "nbformat": 4,
 "nbformat_minor": 5
}
