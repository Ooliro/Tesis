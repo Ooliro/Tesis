{
 "cells": [
  {
   "cell_type": "code",
   "execution_count": 1,
   "id": "5a644c7d-5b61-47e7-acf2-32638bbcc983",
   "metadata": {},
   "outputs": [],
   "source": [
    "import pandas as pd\n",
    "import sys\n",
    "#import io Funciona cuando lo que quieres meter no es un dataframe xd"
   ]
  },
  {
   "cell_type": "code",
   "execution_count": null,
   "id": "57c1b5ec-d90e-47b9-a892-a3e4e601e684",
   "metadata": {},
   "outputs": [],
   "source": [
    "# DS_LEGEND_LABELS\n",
    "#input = sys.argv[1]\n",
    "input = \"/home/raulrosas//Documentos/IFC/repo/operaciones/one4all/caramel/for_rax_nocdhit/itol/extended_simple_clades.txt\"\n",
    "dataframe = pd.read_csv(input, sep = \"\\t\", header = None,)"
   ]
  },
  {
   "cell_type": "code",
   "execution_count": null,
   "id": "be3773d5-76b5-4b6a-aff0-de8da2eb9b28",
   "metadata": {},
   "outputs": [],
   "source": [
    "dataframe"
   ]
  },
  {
   "cell_type": "code",
   "execution_count": null,
   "id": "b22bd3e3-7caf-4f51-9f7d-5f736252b83b",
   "metadata": {},
   "outputs": [],
   "source": [
    "interest_column = dataframe.iloc[:,3]"
   ]
  },
  {
   "cell_type": "code",
   "execution_count": null,
   "id": "182103e2-f46c-407e-88be-4658b2c309f1",
   "metadata": {},
   "outputs": [],
   "source": [
    "unique_clades = sorted(interest_column.unique())\n",
    "print(unique_clades)\n",
    "print(type(unique_clades))"
   ]
  },
  {
   "cell_type": "code",
   "execution_count": null,
   "id": "b024f604-8996-4b37-b250-010b92e072b5",
   "metadata": {},
   "outputs": [],
   "source": [
    "unique_clades = unique_clades[:6]\n",
    "unique_clades"
   ]
  },
  {
   "cell_type": "code",
   "execution_count": null,
   "id": "459d505a-6c12-4e96-b0df-fd828118eaf4",
   "metadata": {},
   "outputs": [],
   "source": [
    "result_string = '\\t'.join(unique_clades)\n",
    "result_string += '\\n'\n",
    "result_string"
   ]
  },
  {
   "cell_type": "code",
   "execution_count": null,
   "id": "5f07f92e-0826-4f67-b133-e13666c4f841",
   "metadata": {},
   "outputs": [],
   "source": [
    "len(unique_clades)"
   ]
  },
  {
   "cell_type": "code",
   "execution_count": 2,
   "id": "495f7941-06bd-455b-93e0-9128ffda6729",
   "metadata": {
    "scrolled": true
   },
   "outputs": [
    {
     "data": {
      "text/html": [
       "<div>\n",
       "<style scoped>\n",
       "    .dataframe tbody tr th:only-of-type {\n",
       "        vertical-align: middle;\n",
       "    }\n",
       "\n",
       "    .dataframe tbody tr th {\n",
       "        vertical-align: top;\n",
       "    }\n",
       "\n",
       "    .dataframe thead th {\n",
       "        text-align: right;\n",
       "    }\n",
       "</style>\n",
       "<table border=\"1\" class=\"dataframe\">\n",
       "  <thead>\n",
       "    <tr style=\"text-align: right;\">\n",
       "      <th></th>\n",
       "      <th>COD</th>\n",
       "      <th>HEX</th>\n",
       "      <th>Clade</th>\n",
       "    </tr>\n",
       "  </thead>\n",
       "  <tbody>\n",
       "    <tr>\n",
       "      <th>0</th>\n",
       "      <td>dmeC1</td>\n",
       "      <td>#fcba03</td>\n",
       "      <td>Arthropoda</td>\n",
       "    </tr>\n",
       "    <tr>\n",
       "      <th>1</th>\n",
       "      <td>dmeN2</td>\n",
       "      <td>#fcba03</td>\n",
       "      <td>Arthropoda</td>\n",
       "    </tr>\n",
       "    <tr>\n",
       "      <th>2</th>\n",
       "      <td>hsaH4</td>\n",
       "      <td>#fc2c03</td>\n",
       "      <td>Chordata</td>\n",
       "    </tr>\n",
       "    <tr>\n",
       "      <th>3</th>\n",
       "      <td>hsaH5</td>\n",
       "      <td>#fc2c03</td>\n",
       "      <td>Chordata</td>\n",
       "    </tr>\n",
       "    <tr>\n",
       "      <th>4</th>\n",
       "      <td>hsaH6</td>\n",
       "      <td>#fc2c03</td>\n",
       "      <td>Chordata</td>\n",
       "    </tr>\n",
       "    <tr>\n",
       "      <th>...</th>\n",
       "      <td>...</td>\n",
       "      <td>...</td>\n",
       "      <td>...</td>\n",
       "    </tr>\n",
       "    <tr>\n",
       "      <th>1941</th>\n",
       "      <td>pplC1</td>\n",
       "      <td>#fc2c03</td>\n",
       "      <td>Chordata</td>\n",
       "    </tr>\n",
       "    <tr>\n",
       "      <th>1942</th>\n",
       "      <td>pplH2</td>\n",
       "      <td>#fc2c03</td>\n",
       "      <td>Chordata</td>\n",
       "    </tr>\n",
       "    <tr>\n",
       "      <th>1943</th>\n",
       "      <td>pplH3</td>\n",
       "      <td>#fc2c03</td>\n",
       "      <td>Chordata</td>\n",
       "    </tr>\n",
       "    <tr>\n",
       "      <th>1944</th>\n",
       "      <td>pplH4</td>\n",
       "      <td>#fc2c03</td>\n",
       "      <td>Chordata</td>\n",
       "    </tr>\n",
       "    <tr>\n",
       "      <th>1945</th>\n",
       "      <td>pplC5</td>\n",
       "      <td>#fc2c03</td>\n",
       "      <td>Chordata</td>\n",
       "    </tr>\n",
       "  </tbody>\n",
       "</table>\n",
       "<p>1946 rows × 3 columns</p>\n",
       "</div>"
      ],
      "text/plain": [
       "        COD      HEX       Clade\n",
       "0     dmeC1  #fcba03  Arthropoda\n",
       "1     dmeN2  #fcba03  Arthropoda\n",
       "2     hsaH4  #fc2c03    Chordata\n",
       "3     hsaH5  #fc2c03    Chordata\n",
       "4     hsaH6  #fc2c03    Chordata\n",
       "...     ...      ...         ...\n",
       "1941  pplC1  #fc2c03    Chordata\n",
       "1942  pplH2  #fc2c03    Chordata\n",
       "1943  pplH3  #fc2c03    Chordata\n",
       "1944  pplH4  #fc2c03    Chordata\n",
       "1945  pplC5  #fc2c03    Chordata\n",
       "\n",
       "[1946 rows x 3 columns]"
      ]
     },
     "execution_count": 2,
     "metadata": {},
     "output_type": "execute_result"
    }
   ],
   "source": [
    "# Para buscar quitinas/hialuronano/sin definir | OPCION 1\n",
    "second_input = \"/home/raulrosas/Documentos/IFC/repo/operaciones/one4all/caramel/for_rax_nocdhit/itol/ITOL_simplified_clades.txt\"\n",
    "chn_dataframe = pd.read_csv(second_input, sep = \"\\t\", header= None, skiprows=13,names = [\"COD\",\"HEX\",\"Clade\"])\n",
    "chn_dataframe\n",
    "#len(chn_dataframe)"
   ]
  },
  {
   "cell_type": "code",
   "execution_count": null,
   "id": "2f5b668a-da12-48c3-8fb2-2189a2556d99",
   "metadata": {},
   "outputs": [],
   "source": [
    "search_c = chn_dataframe[dataframe[0].str.contains(\"C\")]\n",
    "chitin_color = \"#ff4000\" #orange\n",
    "search_h = chn_dataframe[dataframe[0].str.contains(\"H\")]\n",
    "hyaluronan_color = \"#46ff03\" #green\n",
    "search_n = chn_dataframe[dataframe[0].str.contains(\"N\")]\n",
    "none_color = \"fff203\" #yellow\n",
    "\n",
    "search_c.loc[:,'CEP'] = chitin_color\n",
    "search_h.loc[:,'CEP'] = hyaluronan_color\n",
    "search_n.loc[:,'CEP'] = none_color\n",
    "#search.to_csv(\"Chitin_list.txt\", index = False, sep = \"\\t\", header = None)\n",
    "\n"
   ]
  },
  {
   "cell_type": "code",
   "execution_count": 23,
   "id": "5238b7ac-4fe0-4c0d-b46b-2d6de867cbf9",
   "metadata": {},
   "outputs": [
    {
     "name": "stdout",
     "output_type": "stream",
     "text": [
      "[['dmeC1', '#ff4000'], ['dmeN2', '#fff203'], ['hsaH4', '#46ff03'], ['hsaH5', '#46ff03'], ['hsaH6', '#46ff03'], ['mmuH1', '#46ff03'], ['mmuH2', '#46ff03'], ['mmuH3', '#46ff03'], ['dreN1', '#fff203'], ['dreH2', '#46ff03'], ['dreH3', '#46ff03'], ['dreH4', '#46ff03'], ['cluH1', '#46ff03'], ['cluH2', '#46ff03'], ['cluH3', '#46ff03'], ['mdoH1', '#46ff03'], ['mdoH2', '#46ff03'], ['mdoH3', '#46ff03'], ['tcaC1', '#ff4000'], ['tcaC2', '#ff4000'], ['tcaN3', '#fff203'], ['tcaN4', '#fff203'], ['sscH1', '#46ff03'], ['sscH2', '#46ff03'], ['sscH3', '#46ff03'], ['sscH4', '#46ff03'], ['bflC1', '#ff4000'], ['bflN2', '#fff203'], ['bflH3', '#46ff03'], ['bflC4', '#ff4000'], ['bflC5', '#ff4000'], ['bflN6', '#fff203'], ['bflN7', '#fff203'], ['bflC8', '#ff4000'], ['bflN9', '#fff203'], ['bflN10', '#fff203'], ['bflN11', '#fff203'], ['bflN12', '#fff203'], ['bflN13', '#fff203'], ['bflN14', '#fff203'], ['bflN15', '#fff203'], ['bflN16', '#fff203'], ['bflC17', '#ff4000'], ['bflH18', '#46ff03'], ['bflH19', '#46ff03'], ['bflH20', '#46ff03'], ['bflH21', '#46ff03'], ['bflN22', '#fff203'], ['xtrH1', '#46ff03'], ['xtrH2', '#46ff03'], ['xtrH3', '#46ff03'], ['xtrH4', '#46ff03'], ['xtrC5', '#ff4000'], ['xtrH6', '#46ff03'], ['cbrN1', '#fff203'], ['cbrN2', '#fff203'], ['cbrN3', '#fff203'], ['agaN1', '#fff203'], ['agaN2', '#fff203'], ['agaN3', '#fff203'], ['acaH1', '#46ff03'], ['acaH2', '#46ff03'], ['acaH3', '#46ff03'], ['mgaH1', '#46ff03'], ['mgaH2', '#46ff03'], ['mmurH1', '#46ff03'], ['mmurH2', '#46ff03'], ['mmurH3', '#46ff03'], ['cinC1', '#ff4000'], ['mzeH1', '#46ff03'], ['mzeH2', '#46ff03'], ['mzeH3', '#46ff03'], ['mzeC4', '#ff4000'], ['cpiH1', '#46ff03'], ['cpiH2', '#46ff03'], ['cpiH3', '#46ff03'], ['locH1', '#46ff03'], ['locH2', '#46ff03'], ['locN3', '#fff203'], ['locN4', '#fff203'], ['binH1', '#46ff03'], ['binH2', '#46ff03'], ['binH3', '#46ff03'], ['binH4', '#46ff03'], ['falH1', '#46ff03'], ['falH2', '#46ff03'], ['mocH1', '#46ff03'], ['mocH2', '#46ff03'], ['mocH3', '#46ff03'], ['cseH1', '#46ff03'], ['cseH2', '#46ff03'], ['cseH3', '#46ff03'], ['cseC4', '#ff4000'], ['cseC5', '#ff4000'], ['preH1', '#46ff03'], ['preN2', '#fff203'], ['preN3', '#fff203'], ['preH4', '#46ff03'], ['preH5', '#46ff03'], ['preN6', '#fff203'], ['ccoH1', '#46ff03'], ['ccoH2', '#46ff03'], ['cdrH1', '#46ff03'], ['cdrH2', '#46ff03'], ['cdrH3', '#46ff03'], ['lcrH1', '#46ff03'], ['lcrC2', '#ff4000'], ['lcrH3', '#46ff03'], ['lcrH4', '#46ff03'], ['lcrH5', '#46ff03'], ['lcrC6', '#ff4000'], ['sraC1', '#ff4000'], ['sraC2', '#ff4000'], ['obiC1', '#ff4000'], ['obiC2', '#ff4000'], ['obiN3', '#fff203'], ['obiC4', '#ff4000'], ['obiN5', '#fff203'], ['obiC6', '#ff4000'], ['obiC7', '#ff4000'], ['obiN8', '#fff203'], ['obiN9', '#fff203'], ['obiN10', '#fff203'], ['obiC11', '#ff4000'], ['obiN12', '#fff203'], ['xcoH1', '#46ff03'], ['xcoC2', '#ff4000'], ['xcoH3', '#46ff03'], ['xcoH4', '#46ff03'], ['xcoC5', '#ff4000'], ['xcoC6', '#ff4000'], ['nfuH1', '#46ff03'], ['nfuH2', '#46ff03'], ['nfuN3', '#fff203'], ['nfuH4', '#46ff03'], ['pmaH1', '#46ff03'], ['pmaH2', '#46ff03'], ['cjaH1', '#46ff03'], ['cjaH2', '#46ff03'], ['lcaC1', '#ff4000'], ['lcaH2', '#46ff03'], ['lcaH3', '#46ff03'], ['lcaH4', '#46ff03'], ['lcaC5', '#ff4000'], ['lcaC6', '#ff4000'], ['lcaC7', '#ff4000'], ['kmaN1', '#fff203'], ['kmaH2', '#46ff03'], ['kmaN3', '#fff203'], ['kmaC4', '#ff4000'], ['kmaH5', '#46ff03'], ['kmaH6', '#46ff03'], ['kmaN7', '#fff203'], ['kmaC8', '#ff4000'], ['kmaC9', '#ff4000'], ['ipuC1', '#ff4000'], ['ipuC2', '#ff4000'], ['ipuC3', '#ff4000'], ['ipuH4', '#46ff03'], ['ipuH5', '#46ff03'], ['ipuH6', '#46ff03'], ['ipuH7', '#46ff03'], ['ipuC8', '#ff4000'], ['chiH1', '#46ff03'], ['chiH2', '#46ff03'], ['chiH3', '#46ff03'], ['chiH4', '#46ff03'], ['oniH1', '#46ff03'], ['oniH2', '#46ff03'], ['oniH3', '#46ff03'], ['oniC4', '#ff4000'], ['oniC5', '#ff4000'], ['oniC6', '#ff4000'], ['oniC7', '#ff4000'], ['ameH1', '#46ff03'], ['ameH2', '#46ff03'], ['ameH3', '#46ff03'], ['okiH1', '#46ff03'], ['okiH2', '#46ff03'], ['okiC3', '#ff4000'], ['okiC4', '#ff4000'], ['okiH5', '#46ff03'], ['okiC6', '#ff4000'], ['okiH7', '#46ff03'], ['okiH8', '#46ff03'], ['okiH9', '#46ff03'], ['cviN1', '#fff203'], ['cviN2', '#fff203'], ['cviN3', '#fff203'], ['cviN4', '#fff203'], ['cviN5', '#fff203'], ['cviN6', '#fff203'], ['cviN7', '#fff203'], ['cviN8', '#fff203'], ['cviN9', '#fff203'], ['cviN10', '#fff203'], ['cviN11', '#fff203'], ['cviN12', '#fff203'], ['cviN13', '#fff203'], ['cviN14', '#fff203'], ['cviC15', '#ff4000'], ['cviN16', '#fff203'], ['cviC17', '#ff4000'], ['cviN18', '#fff203'], ['cviN19', '#fff203'], ['cviN20', '#fff203'], ['cviN21', '#fff203'], ['cviN22', '#fff203'], ['cviN23', '#fff203'], ['cviN24', '#fff203'], ['cviN25', '#fff203'], ['cviN26', '#fff203'], ['cviC27', '#ff4000'], ['cviC28', '#ff4000'], ['nmeH1', '#46ff03'], ['nmeH2', '#46ff03'], ['nscH1', '#46ff03'], ['nscH2', '#46ff03'], ['nscH3', '#46ff03'], ['aaeN1', '#fff203'], ['aaeN2', '#fff203'], ['aaeN3', '#fff203'], ['olaH1', '#46ff03'], ['olaH2', '#46ff03'], ['olaN3', '#fff203'], ['olaH4', '#46ff03'], ['tdaN1', '#fff203'], ['tdaC2', '#ff4000'], ['tdaN3', '#fff203'], ['tdaC4', '#ff4000'], ['btaH1', '#46ff03'], ['btaH2', '#46ff03'], ['btaH3', '#46ff03'], ['btaH4', '#46ff03'], ['sliN1', '#fff203'], ['sliN2', '#fff203'], ['xmaH1', '#46ff03'], ['xmaH2', '#46ff03'], ['xmaH3', '#46ff03'], ['xmaN4', '#fff203'], ['xmaN5', '#fff203'], ['xmaN6', '#fff203'], ['xmaN7', '#fff203'], ['pteH1', '#46ff03'], ['pteH2', '#46ff03'], ['pteH3', '#46ff03'], ['ecaH1', '#46ff03'], ['ecaH2', '#46ff03'], ['ecaH3', '#46ff03'], ['ptrH1', '#46ff03'], ['ptrH2', '#46ff03'], ['ptrH3', '#46ff03'], ['pabH1', '#46ff03'], ['pabH2', '#46ff03'], ['pabH3', '#46ff03'], ['salH1', '#46ff03'], ['salH2', '#46ff03'], ['salH3', '#46ff03'], ['salH4', '#46ff03'], ['salN5', '#fff203'], ['salN6', '#fff203'], ['salH7', '#46ff03'], ['omeH1', '#46ff03'], ['omeH2', '#46ff03'], ['omeC3', '#ff4000'], ['omeC4', '#ff4000'], ['omeH5', '#46ff03'], ['pcaC1', '#ff4000'], ['pcaC2', '#ff4000'], ['pcaC3', '#ff4000'], ['pcaN4', '#fff203'], ['pcaN5', '#fff203'], ['pcaC6', '#ff4000'], ['pcaN7', '#fff203'], ['pcaN8', '#fff203'], ['pcaN9', '#fff203'], ['pcaN10', '#fff203'], ['pcaC11', '#ff4000'], ['pcaC12', '#ff4000'], ['amelC1', '#ff4000'], ['amelC2', '#ff4000'], ['amelN3', '#fff203'], ['clupH1', '#46ff03'], ['clupH2', '#46ff03'], ['clupH3', '#46ff03'], ['tgeH1', '#46ff03'], ['tgeH2', '#46ff03'], ['tgeH3', '#46ff03'], ['xheH1', '#46ff03'], ['xheH2', '#46ff03'], ['xheC3', '#ff4000'], ['xheC4', '#ff4000'], ['xheH5', '#46ff03'], ['xheC6', '#ff4000'], ['xheC7', '#ff4000'], ['mmulH1', '#46ff03'], ['mmulH2', '#46ff03'], ['mmulH3', '#46ff03'], ['cauC1', '#ff4000'], ['cauH2', '#46ff03'], ['cauC3', '#ff4000'], ['cauC4', '#ff4000'], ['cauC5', '#ff4000'], ['cauH6', '#46ff03'], ['cauC7', '#ff4000'], ['cauC8', '#ff4000'], ['cauH9', '#46ff03'], ['cauH10', '#46ff03'], ['cauC11', '#ff4000'], ['cauH12', '#46ff03'], ['cauH13', '#46ff03'], ['cauH14', '#46ff03'], ['bindH1', '#46ff03'], ['bindH2', '#46ff03'], ['bindH3', '#46ff03'], ['bindH4', '#46ff03'], ['dmiC1', '#ff4000'], ['dmiC2', '#ff4000'], ['dmiN3', '#fff203'], ['tniC1', '#ff4000'], ['tniC2', '#ff4000'], ['cgrH1', '#46ff03'], ['cgrH2', '#46ff03'], ['cgrH3', '#46ff03'], ['obirC1', '#ff4000'], ['obirN2', '#fff203'], ['obirC3', '#ff4000'], ['rmaC1', '#ff4000'], ['pmanH1', '#46ff03'], ['pmanH2', '#46ff03'], ['pmanH3', '#46ff03'], ['canH1', '#46ff03'], ['canH2', '#46ff03'], ['tguH1', '#46ff03'], ['tguH2', '#46ff03'], ['cplH1', '#46ff03'], ['cplH2', '#46ff03'], ['cplC3', '#ff4000'], ['cplH4', '#46ff03'], ['shaH1', '#46ff03'], ['shaN2', '#fff203'], ['oanH1', '#46ff03'], ['oanH2', '#46ff03'], ['oanH3', '#46ff03'], ['rfeH1', '#46ff03'], ['rfeH2', '#46ff03'], ['rfeH3', '#46ff03'], ['pdiH1', '#46ff03'], ['pdiH2', '#46ff03'], ['pdiH3', '#46ff03'], ['pmuH1', '#46ff03'], ['pmuH2', '#46ff03'], ['pmuH3', '#46ff03'], ['dinN1', '#fff203'], ['dinC2', '#ff4000'], ['dinC3', '#ff4000'], ['pflH1', '#46ff03'], ['pflH2', '#46ff03'], ['pflC3', '#ff4000'], ['pflH4', '#46ff03'], ['pflC5', '#ff4000'], ['pflC6', '#ff4000'], ['dmaC1', '#ff4000'], ['dmaC2', '#ff4000'], ['dseC1', '#ff4000'], ['dseC2', '#ff4000'], ['pleH1', '#46ff03'], ['pleH2', '#46ff03'], ['pleH3', '#46ff03'], ['elaC1', '#ff4000'], ['elaH2', '#46ff03'], ['elaC3', '#ff4000'], ['elaC4', '#ff4000'], ['elaC5', '#ff4000'], ['elaH6', '#46ff03'], ['elaH7', '#46ff03'], ['apiC1', '#ff4000'], ['lstH1', '#46ff03'], ['lstH2', '#46ff03'], ['oneH1', '#46ff03'], ['oneC2', '#ff4000'], ['oneC3', '#ff4000'], ['oneH4', '#46ff03'], ['oneH5', '#46ff03'], ['oneC6', '#ff4000'], ['ssuH1', '#46ff03'], ['ssuH2', '#46ff03'], ['ssuH3', '#46ff03'], ['osiC1', '#ff4000'], ['osiC2', '#ff4000'], ['osiC3', '#ff4000'], ['osiC4', '#ff4000'], ['osiC5', '#ff4000'], ['osiN6', '#fff203'], ['osiN7', '#fff203'], ['osiN8', '#fff203'], ['osiC9', '#ff4000'], ['osiN10', '#fff203'], ['osiC11', '#ff4000'], ['osiN12', '#fff203'], ['osiN13', '#fff203'], ['osiC14', '#ff4000'], ['osiC15', '#ff4000'], ['emoC1', '#ff4000'], ['emoC2', '#ff4000'], ['emoH3', '#46ff03'], ['emoH4', '#46ff03'], ['emoC5', '#ff4000'], ['emoH6', '#46ff03'], ['nleH1', '#46ff03'], ['nleH2', '#46ff03'], ['nleH3', '#46ff03'], ['aceC1', '#ff4000'], ['aceH2', '#46ff03'], ['aceH3', '#46ff03'], ['aceC4', '#ff4000'], ['aceC5', '#ff4000'], ['aceH6', '#46ff03'], ['aceH7', '#46ff03'], ['gevH1', '#46ff03'], ['gevH2', '#46ff03'], ['gevH3', '#46ff03'], ['lcanH1', '#46ff03'], ['lcanH2', '#46ff03'], ['lcanH3', '#46ff03'], ['rroH1', '#46ff03'], ['rroH2', '#46ff03'], ['rroH3', '#46ff03'], ['dsuC1', '#ff4000'], ['dsuC2', '#ff4000'], ['dsuN3', '#fff203'], ['ggoH1', '#46ff03'], ['ggoH2', '#46ff03'], ['ggoH3', '#46ff03'], ['sluH1', '#46ff03'], ['sluC2', '#ff4000'], ['sluC3', '#ff4000'], ['sluC4', '#ff4000'], ['sluC5', '#ff4000'], ['sluH6', '#46ff03'], ['sluC7', '#ff4000'], ['sluN8', '#fff203'], ['sluH9', '#46ff03'], ['mcoH1', '#46ff03'], ['mcoH2', '#46ff03'], ['mcoH3', '#46ff03'], ['psiH1', '#46ff03'], ['psiH2', '#46ff03'], ['psiH3', '#46ff03'], ['espC1', '#ff4000'], ['espC2', '#ff4000'], ['espC3', '#ff4000'], ['espC4', '#ff4000'], ['espC5', '#ff4000'], ['espH6', '#46ff03'], ['espH7', '#46ff03'], ['espC8', '#ff4000'], ['espH9', '#46ff03'], ['panH1', '#46ff03'], ['panH2', '#46ff03'], ['panH3', '#46ff03'], ['panH4', '#46ff03'], ['pleoC1', '#ff4000'], ['pleoH2', '#46ff03'], ['pleoH3', '#46ff03'], ['pleoH4', '#46ff03'], ['pleoC5', '#ff4000'], ['pleoC6', '#ff4000'], ['nviN1', '#fff203'], ['nviC2', '#ff4000'], ['nviC3', '#ff4000'], ['dalN1', '#fff203'], ['dalC2', '#ff4000'], ['dalN3', '#fff203'], ['dalC4', '#ff4000'], ['cmoH1', '#46ff03'], ['cmoH2', '#46ff03'], ['cjacH1', '#46ff03'], ['cjacH2', '#46ff03'], ['cjacH3', '#46ff03'], ['dplC1', '#ff4000'], ['dplC2', '#ff4000'], ['zcaH1', '#46ff03'], ['zcaH2', '#46ff03'], ['zcaH3', '#46ff03'], ['nceC1', '#ff4000'], ['nceH2', '#46ff03'], ['nceH3', '#46ff03'], ['nceH4', '#46ff03'], ['nceC5', '#ff4000'], ['nceC6', '#ff4000'], ['ppeC1', '#ff4000'], ['ppeH2', '#46ff03'], ['ppeH3', '#46ff03'], ['ppeH4', '#46ff03'], ['dcoH1', '#46ff03'], ['dcoH2', '#46ff03'], ['dcoH3', '#46ff03'], ['dcoH4', '#46ff03'], ['dcoH5', '#46ff03'], ['telH1', '#46ff03'], ['telH2', '#46ff03'], ['telH3', '#46ff03'], ['telH4', '#46ff03'], ['telH5', '#46ff03'], ['clumH1', '#46ff03'], ['clumH2', '#46ff03'], ['clumC3', '#ff4000'], ['clumC4', '#ff4000'], ['clumH5', '#46ff03'], ['clumC6', '#ff4000'], ['colH1', '#46ff03'], ['colH2', '#46ff03'], ['ocuH1', '#46ff03'], ['ocuH2', '#46ff03'], ['ocuH3', '#46ff03'], ['lagH1', '#46ff03'], ['lagH2', '#46ff03'], ['lagH3', '#46ff03'], ['hhiC1', '#ff4000'], ['hhiH2', '#46ff03'], ['hhiN3', '#fff203'], ['hhiC4', '#ff4000'], ['hhiH5', '#46ff03'], ['hhiH6', '#46ff03'], ['afuH1', '#46ff03'], ['afuH2', '#46ff03'], ['cusH1', '#46ff03'], ['cusH2', '#46ff03'], ['pmagH1', '#46ff03'], ['pmagC2', '#ff4000'], ['pmagC3', '#ff4000'], ['pmagH4', '#46ff03'], ['pmagH5', '#46ff03'], ['pmagC6', '#ff4000'], ['claH1', '#46ff03'], ['claH2', '#46ff03'], ['merH1', '#46ff03'], ['merH2', '#46ff03'], ['merH3', '#46ff03'], ['cfeH1', '#46ff03'], ['cfeH2', '#46ff03'], ['cfeH3', '#46ff03'], ['cfeH4', '#46ff03'], ['dpsC1', '#ff4000'], ['dpsC2', '#ff4000'], ['dpsN3', '#fff203'], ['bmuH1', '#46ff03'], ['bmuH2', '#46ff03'], ['bmuH3', '#46ff03'], ['pfluC1', '#ff4000'], ['pfluH2', '#46ff03'], ['pfluH3', '#46ff03'], ['pfluH4', '#46ff03'], ['pfluC5', '#ff4000'], ['pfluC6', '#ff4000'], ['creN1', '#fff203'], ['aruH1', '#46ff03'], ['aruH2', '#46ff03'], ['aruC3', '#ff4000'], ['aruN4', '#fff203'], ['aruC5', '#ff4000'], ['aruC6', '#ff4000'], ['aruC7', '#ff4000'], ['aruH8', '#46ff03'], ['aruH9', '#46ff03'], ['aruH10', '#46ff03'], ['aruH11', '#46ff03'], ['aruH12', '#46ff03'], ['aruC13', '#ff4000'], ['aruC14', '#ff4000'], ['aruH15', '#46ff03'], ['aruC16', '#ff4000'], ['aruC17', '#ff4000'], ['bkiC1', '#ff4000'], ['bkiN2', '#fff203'], ['bkiC3', '#ff4000'], ['araH1', '#46ff03'], ['araC2', '#ff4000'], ['araC3', '#ff4000'], ['araC4', '#ff4000'], ['araH5', '#46ff03'], ['araH6', '#46ff03'], ['pmarC1', '#ff4000'], ['pmarC2', '#ff4000'], ['pmarC3', '#ff4000'], ['pmarH4', '#46ff03'], ['pmarH5', '#46ff03'], ['pmarH6', '#46ff03'], ['pmarC7', '#ff4000'], ['pmarN8', '#fff203'], ['pmarC9', '#ff4000'], ['pmarN10', '#fff203'], ['pmarH11', '#46ff03'], ['pmarC12', '#ff4000'], ['pmarC13', '#ff4000'], ['pmarC14', '#ff4000'], ['eluH1', '#46ff03'], ['eluH2', '#46ff03'], ['eluH3', '#46ff03'], ['eluC4', '#ff4000'], ['eluC5', '#ff4000'], ['eluC6', '#ff4000'], ['eluC7', '#ff4000'], ['eluC8', '#ff4000'], ['eluC9', '#ff4000'], ['eluC10', '#ff4000'], ['eluC11', '#ff4000'], ['rraH1', '#46ff03'], ['rraH2', '#46ff03'], ['rraH3', '#46ff03'], ['ojaH1', '#46ff03'], ['ojaH2', '#46ff03'], ['tvuH1', '#46ff03'], ['tvuH2', '#46ff03'], ['tvuH3', '#46ff03'], ['fheH1', '#46ff03'], ['fheC2', '#ff4000'], ['fheH3', '#46ff03'], ['fheH4', '#46ff03'], ['fheH5', '#46ff03'], ['fheN6', '#fff203'], ['fheC7', '#ff4000'], ['fheC8', '#ff4000'], ['efuC1', '#ff4000'], ['efuH2', '#46ff03'], ['efuH3', '#46ff03'], ['efuH4', '#46ff03'], ['efuC5', '#ff4000'], ['efuC6', '#ff4000'], ['dbuC1', '#ff4000'], ['dbuC2', '#ff4000'], ['aniH1', '#46ff03'], ['aniH2', '#46ff03'], ['aniH3', '#46ff03'], ['ttrH1', '#46ff03'], ['ttrH2', '#46ff03'], ['ttrH3', '#46ff03'], ['zviH1', '#46ff03'], ['zviH2', '#46ff03'], ['zviH3', '#46ff03'], ['zceC1', '#ff4000'], ['zceC2', '#ff4000'], ['munH1', '#46ff03'], ['munH2', '#46ff03'], ['matH1', '#46ff03'], ['matH2', '#46ff03'], ['mfaH1', '#46ff03'], ['mfaH2', '#46ff03'], ['mfaH3', '#46ff03'], ['ppaH1', '#46ff03'], ['ppaH2', '#46ff03'], ['ppaH3', '#46ff03'], ['ppaH4', '#46ff03'], ['tscH1', '#46ff03'], ['tscH2', '#46ff03'], ['ecrH1', '#46ff03'], ['ecrH2', '#46ff03'], ['ecrC3', '#ff4000'], ['ecrH4', '#46ff03'], ['ecrC5', '#ff4000'], ['ecrC6', '#ff4000'], ['ecrC7', '#ff4000'], ['astC1', '#ff4000'], ['astC2', '#ff4000'], ['omyH1', '#46ff03'], ['omyC2', '#ff4000'], ['omyC3', '#ff4000'], ['omyH4', '#46ff03'], ['omyH5', '#46ff03'], ['omyH6', '#46ff03'], ['omyH7', '#46ff03'], ['omyC8', '#ff4000'], ['rsaC1', '#ff4000'], ['rsaC2', '#ff4000'], ['rsaC3', '#ff4000'], ['rmiC1', '#ff4000'], ['rmiC2', '#ff4000'], ['dsiC1', '#ff4000'], ['dsiC2', '#ff4000'], ['dsuzC1', '#ff4000'], ['dsuzC2', '#ff4000'], ['aanH1', '#46ff03'], ['aanH2', '#46ff03'], ['aanH3', '#46ff03'], ['aanH4', '#46ff03'], ['aanC5', '#ff4000'], ['aanC6', '#ff4000'], ['aanC7', '#ff4000'], ['aanC8', '#ff4000'], ['aanC9', '#ff4000'], ['aanH10', '#46ff03'], ['eelH1', '#46ff03'], ['eelH2', '#46ff03'], ['eelH3', '#46ff03'], ['eelC4', '#ff4000'], ['oauC1', '#ff4000'], ['oauH2', '#46ff03'], ['oauH3', '#46ff03'], ['oauC4', '#ff4000'], ['oauC5', '#ff4000'], ['oauC6', '#ff4000'], ['oauH7', '#46ff03'], ['mcyH1', '#46ff03'], ['mcyC2', '#ff4000'], ['mcyH3', '#46ff03'], ['mcyH4', '#46ff03'], ['mcyH5', '#46ff03'], ['mcyH6', '#46ff03'], ['mcyC7', '#ff4000'], ['mcyC8', '#ff4000'], ['mphC1', '#ff4000'], ['mphC2', '#ff4000'], ['mphC3', '#ff4000'], ['mphN4', '#fff203'], ['catH1', '#46ff03'], ['catH2', '#46ff03'], ['amiN1', '#fff203'], ['amiN2', '#fff203'], ['amiC3', '#ff4000'], ['aalN1', '#fff203'], ['aalC2', '#ff4000'], ['nluC1', '#ff4000'], ['vpeN1', '#fff203'], ['vpeC2', '#ff4000'], ['bcoN1', '#fff203'], ['bcoC2', '#ff4000'], ['bcoC3', '#ff4000'], ['bcoC4', '#ff4000'], ['oprH1', '#46ff03'], ['oprH2', '#46ff03'], ['oprH3', '#46ff03'], ['dsubC1', '#ff4000'], ['dsubC2', '#ff4000'], ['smeC1', '#ff4000'], ['smeC2', '#ff4000'], ['smeC3', '#ff4000'], ['smeH4', '#46ff03'], ['smeH5', '#46ff03'], ['smeH6', '#46ff03'], ['smeH7', '#46ff03'], ['bpyC1', '#ff4000'], ['bpyC2', '#ff4000'], ['bpyN3', '#fff203'], ['mseC1', '#ff4000'], ['mseC2', '#ff4000'], ['mseC3', '#ff4000'], ['mseC4', '#ff4000'], ['bgaH1', '#46ff03'], ['bgaH2', '#46ff03'], ['bgaH3', '#46ff03'], ['agiC1', '#ff4000'], ['agiC2', '#ff4000'], ['bmoC1', '#ff4000'], ['bmoC2', '#ff4000'], ['nwhH1', '#46ff03'], ['nwhH2', '#46ff03'], ['nwhH3', '#46ff03'], ['nwhC4', '#ff4000'], ['nwhC5', '#ff4000'], ['fruH1', '#46ff03'], ['fruH2', '#46ff03'], ['cdiH1', '#46ff03'], ['cdiH2', '#46ff03'], ['cdiH3', '#46ff03'], ['pnaH1', '#46ff03'], ['pnaH2', '#46ff03'], ['pnaH3', '#46ff03'], ['pnaC4', '#ff4000'], ['sumC1', '#ff4000'], ['sumH2', '#46ff03'], ['sumH3', '#46ff03'], ['sumH4', '#46ff03'], ['sumC5', '#ff4000'], ['sumC6', '#ff4000'], ['rnoH1', '#46ff03'], ['rnoH2', '#46ff03'], ['rnoH3', '#46ff03'], ['hruH1', '#46ff03'], ['hruH2', '#46ff03'], ['pmoC1', '#ff4000'], ['pmoN2', '#fff203'], ['cmyH1', '#46ff03'], ['cmyH2', '#46ff03'], ['cmyH3', '#46ff03'], ['cmyH4', '#46ff03'], ['cmyH5', '#46ff03'], ['aplH1', '#46ff03'], ['aplH2', '#46ff03'], ['cquC1', '#ff4000'], ['cquC2', '#ff4000'], ['cquN3', '#fff203'], ['malH1', '#46ff03'], ['malH2', '#46ff03'], ['tacH1', '#46ff03'], ['tacH2', '#46ff03'], ['tacH3', '#46ff03'], ['easH1', '#46ff03'], ['easH2', '#46ff03'], ['easH3', '#46ff03'], ['lsaN1', '#fff203'], ['lsaC2', '#ff4000'], ['lsaC3', '#ff4000'], ['gaeC1', '#ff4000'], ['gaeC2', '#ff4000'], ['gaeC3', '#ff4000'], ['gaeC4', '#ff4000'], ['gaeN5', '#fff203'], ['gaeC6', '#ff4000'], ['gaeN7', '#fff203'], ['gaeC8', '#ff4000'], ['gaeC9', '#ff4000'], ['gaeC10', '#ff4000'], ['gaeN11', '#fff203'], ['gaeC12', '#ff4000'], ['gaeC13', '#ff4000'], ['gaeC14', '#ff4000'], ['gaeC15', '#ff4000'], ['gaeC16', '#ff4000'], ['gaeC17', '#ff4000'], ['gaeC18', '#ff4000'], ['gaeC19', '#ff4000'], ['gaeC20', '#ff4000'], ['gaeN21', '#fff203'], ['gaeC22', '#ff4000'], ['mreH1', '#46ff03'], ['mreH2', '#46ff03'], ['mreH3', '#46ff03'], ['snaC1', '#ff4000'], ['snaC2', '#ff4000'], ['snaH3', '#46ff03'], ['snaH4', '#46ff03'], ['snaC5', '#ff4000'], ['snaH6', '#46ff03'], ['snaH7', '#46ff03'], ['snaH8', '#46ff03'], ['snaH9', '#46ff03'], ['aflH1', '#46ff03'], ['aflH2', '#46ff03'], ['aflH3', '#46ff03'], ['gagH1', '#46ff03'], ['gagH2', '#46ff03'], ['gagH3', '#46ff03'], ['pbeH1', '#46ff03'], ['pbeH2', '#46ff03'], ['pbeH3', '#46ff03'], ['btrC1', '#ff4000'], ['btrN2', '#fff203'], ['btrC3', '#ff4000'], ['ggaH2', '#46ff03'], ['ggaH3', '#46ff03'], ['dteC1', '#ff4000'], ['dteC2', '#ff4000'], ['dsaC1', '#ff4000'], ['dsaC2', '#ff4000'], ['dyaC1', '#ff4000'], ['dyaC2', '#ff4000'], ['dsimC1', '#ff4000'], ['dsimC2', '#ff4000'], ['oarH1', '#46ff03'], ['oarH2', '#46ff03'], ['oarH3', '#46ff03'], ['oarH4', '#46ff03'], ['oarH5', '#46ff03'], ['cpipN1', '#fff203'], ['cpipN2', '#fff203'], ['cpipC3', '#ff4000'], ['cpipC4', '#ff4000'], ['sinC1', '#ff4000'], ['sinC2', '#ff4000'], ['pseH1', '#46ff03'], ['pseC2', '#ff4000'], ['pseC3', '#ff4000'], ['pseC4', '#ff4000'], ['pseC5', '#ff4000'], ['pseH6', '#46ff03'], ['xglH1', '#46ff03'], ['xglH2', '#46ff03'], ['xglC3', '#ff4000'], ['xglC4', '#ff4000'], ['xglC5', '#ff4000'], ['xglH6', '#46ff03'], ['itrH1', '#46ff03'], ['itrH2', '#46ff03'], ['itrH3', '#46ff03'], ['pafH1', '#46ff03'], ['pafH2', '#46ff03'], ['pafH3', '#46ff03'], ['pafH4', '#46ff03'], ['aarC1', '#ff4000'], ['aarC2', '#ff4000'], ['aarN3', '#fff203'], ['gacH1', '#46ff03'], ['gacH2', '#46ff03'], ['gacH3', '#46ff03'], ['gacH4', '#46ff03'], ['gacC5', '#ff4000'], ['gacC6', '#ff4000'], ['gacC7', '#ff4000'], ['gacC8', '#ff4000'], ['amerC1', '#ff4000'], ['amerC2', '#ff4000'], ['amerN3', '#fff203'], ['aaloH1', '#46ff03'], ['aaloH2', '#46ff03'], ['aaloC3', '#ff4000'], ['aaloC4', '#ff4000'], ['aaloC5', '#ff4000'], ['ptriC1', '#ff4000'], ['danC1', '#ff4000'], ['danC2', '#ff4000'], ['ccaH1', '#46ff03'], ['ccaH2', '#46ff03'], ['ccaH3', '#46ff03'], ['ccaC4', '#ff4000'], ['fnaH1', '#46ff03'], ['fnaH2', '#46ff03'], ['mboC1', '#ff4000'], ['mboH2', '#46ff03'], ['mboH3', '#46ff03'], ['mboH4', '#46ff03'], ['mboC5', '#ff4000'], ['mboC6', '#ff4000'], ['mboC7', '#ff4000'], ['mboC8', '#ff4000'], ['pspH1', '#46ff03'], ['pspH2', '#46ff03'], ['pspH3', '#46ff03'], ['pspH4', '#46ff03'], ['pspH5', '#46ff03'], ['pspC6', '#ff4000'], ['pspN7', '#fff203'], ['pspC8', '#ff4000'], ['pspH9', '#46ff03'], ['xlaC1', '#ff4000'], ['xlaC2', '#ff4000'], ['xlaN3', '#fff203'], ['croH1', '#46ff03'], ['croH2', '#46ff03'], ['croH3', '#46ff03'], ['croC4', '#ff4000'], ['tjaH1', '#46ff03'], ['tjaC2', '#ff4000'], ['tjaH3', '#46ff03'], ['tjaH4', '#46ff03'], ['tjaC5', '#ff4000'], ['gcaH1', '#46ff03'], ['gcaH2', '#46ff03'], ['otsH1', '#46ff03'], ['otsC2', '#ff4000'], ['otsH3', '#46ff03'], ['otsC4', '#ff4000'], ['otsH5', '#46ff03'], ['otsC6', '#ff4000'], ['otsH7', '#46ff03'], ['otsH8', '#46ff03'], ['cunC1', '#ff4000'], ['cunH2', '#46ff03'], ['cunH3', '#46ff03'], ['cunH4', '#46ff03'], ['cunC5', '#ff4000'], ['cunC6', '#ff4000'], ['ccarC1', '#ff4000'], ['ccarH2', '#46ff03'], ['ccarH3', '#46ff03'], ['ccarC4', '#ff4000'], ['ccarH5', '#46ff03'], ['ccarC6', '#ff4000'], ['ccarH7', '#46ff03'], ['ccarH8', '#46ff03'], ['ccarH9', '#46ff03'], ['vlaH1', '#46ff03'], ['vlaH2', '#46ff03'], ['vlaH3', '#46ff03'], ['lgeH1', '#46ff03'], ['lgeH2', '#46ff03'], ['lgeH3', '#46ff03'], ['fcaH1', '#46ff03'], ['fcaH2', '#46ff03'], ['fcaH3', '#46ff03'], ['ptiH1', '#46ff03'], ['ptiH2', '#46ff03'], ['ptiH3', '#46ff03'], ['pleoH7', '#46ff03'], ['pleoH8', '#46ff03'], ['pleoH9', '#46ff03'], ['asaC1', '#ff4000'], ['asaC2', '#ff4000'], ['asaH3', '#46ff03'], ['asaC4', '#ff4000'], ['asaC5', '#ff4000'], ['asaH6', '#46ff03'], ['asaH7', '#46ff03'], ['mamH1', '#46ff03'], ['mamH2', '#46ff03'], ['mamH3', '#46ff03'], ['mamC4', '#ff4000'], ['mamC5', '#ff4000'], ['mamC6', '#ff4000'], ['ptetC1', '#ff4000'], ['ptetC2', '#ff4000'], ['ptetC3', '#ff4000'], ['ptetH4', '#46ff03'], ['ptetH5', '#46ff03'], ['ptetH6', '#46ff03'], ['dwiC1', '#ff4000'], ['dwiN2', '#fff203'], ['dwiC3', '#ff4000'], ['sunH1', '#46ff03'], ['sunH2', '#46ff03'], ['sunH3', '#46ff03'], ['sseH1', '#46ff03'], ['sseH2', '#46ff03'], ['sseC3', '#ff4000'], ['sseH4', '#46ff03'], ['sseH5', '#46ff03'], ['sseH6', '#46ff03'], ['sseC7', '#ff4000'], ['sseC8', '#ff4000'], ['sseC9', '#ff4000'], ['pchC1', '#ff4000'], ['pchN2', '#fff203'], ['pannH1', '#46ff03'], ['pannC2', '#ff4000'], ['pannH3', '#46ff03'], ['pannH4', '#46ff03'], ['pannH5', '#46ff03'], ['pannH6', '#46ff03'], ['ccanH1', '#46ff03'], ['ccanH2', '#46ff03'], ['ccanH3', '#46ff03'], ['ccanH4', '#46ff03'], ['ccanH5', '#46ff03'], ['dglH1', '#46ff03'], ['dglH2', '#46ff03'], ['dglH3', '#46ff03'], ['vcaN1', '#fff203'], ['vcaC2', '#ff4000'], ['vcaC3', '#ff4000'], ['masC1', '#ff4000'], ['masC2', '#ff4000'], ['masH3', '#46ff03'], ['masH4', '#46ff03'], ['masH5', '#46ff03'], ['masH6', '#46ff03'], ['masH7', '#46ff03'], ['masC8', '#ff4000'], ['gafH1', '#46ff03'], ['gafH2', '#46ff03'], ['gafH3', '#46ff03'], ['gafC4', '#ff4000'], ['gafC5', '#ff4000'], ['gafC6', '#ff4000'], ['gafC7', '#ff4000'], ['bbuH1', '#46ff03'], ['bbuH2', '#46ff03'], ['bbuH3', '#46ff03'], ['bbuH4', '#46ff03'], ['bbuH5', '#46ff03'], ['cidH1', '#46ff03'], ['cidH2', '#46ff03'], ['cidH3', '#46ff03'], ['cidC4', '#ff4000'], ['cglC1', '#ff4000'], ['cglC2', '#ff4000'], ['schC1', '#ff4000'], ['schC2', '#ff4000'], ['schH3', '#46ff03'], ['schC4', '#ff4000'], ['schH5', '#46ff03'], ['schH6', '#46ff03'], ['nvisH1', '#46ff03'], ['nvisH2', '#46ff03'], ['nvisH3', '#46ff03'], ['agoC1', '#ff4000'], ['sarH1', '#46ff03'], ['sarC2', '#ff4000'], ['sarH3', '#46ff03'], ['sarH4', '#46ff03'], ['sarC5', '#ff4000'], ['pclN1', '#fff203'], ['pclC2', '#ff4000'], ['mmutH1', '#46ff03'], ['mmutH2', '#46ff03'], ['mmutH3', '#46ff03'], ['dpoC1', '#ff4000'], ['dpoN2', '#fff203'], ['dpoC3', '#ff4000'], ['dpoN4', '#fff203'], ['dpoN5', '#fff203'], ['dpoC6', '#ff4000'], ['dpoC7', '#ff4000'], ['dpoC8', '#ff4000'], ['dpoN9', '#fff203'], ['dpoC10', '#ff4000'], ['dpoC11', '#ff4000'], ['dpoC12', '#ff4000'], ['dpoC13', '#ff4000'], ['dpoC14', '#ff4000'], ['dpoC15', '#ff4000'], ['dpoN16', '#fff203'], ['dpoN17', '#fff203'], ['dpoC18', '#ff4000'], ['dpoN19', '#fff203'], ['dpoN20', '#fff203'], ['dpoC21', '#ff4000'], ['dpoC22', '#ff4000'], ['dpoN23', '#fff203'], ['dpoC24', '#ff4000'], ['dpoC25', '#ff4000'], ['dpoN26', '#fff203'], ['dpoC27', '#ff4000'], ['dpoC28', '#ff4000'], ['cclH1', '#46ff03'], ['cclH2', '#46ff03'], ['cclH3', '#46ff03'], ['cclC4', '#ff4000'], ['cclC5', '#ff4000'], ['cclH6', '#46ff03'], ['cclH7', '#46ff03'], ['cclH8', '#46ff03'], ['cclC9', '#ff4000'], ['cclC10', '#ff4000'], ['dmagC1', '#ff4000'], ['dmagC2', '#ff4000'], ['dmagC3', '#ff4000'], ['dmagC4', '#ff4000'], ['lcatH1', '#46ff03'], ['lcatH2', '#46ff03'], ['lcatH3', '#46ff03'], ['jjaH1', '#46ff03'], ['jjaH2', '#46ff03'], ['jjaH3', '#46ff03'], ['chaH1', '#46ff03'], ['chaH2', '#46ff03'], ['aapH1', '#46ff03'], ['aapH2', '#46ff03'], ['stoH1', '#46ff03'], ['stoH2', '#46ff03'], ['stoH3', '#46ff03'], ['stoH4', '#46ff03'], ['hviN1', '#fff203'], ['hviC2', '#ff4000'], ['dpuC1', '#ff4000'], ['dpuC2', '#ff4000'], ['dpuC3', '#ff4000'], ['dsimC3', '#ff4000'], ['dsimC4', '#ff4000'], ['dsimC5', '#ff4000'], ['dsimN6', '#fff203'], ['npiC1', '#ff4000'], ['npiC2', '#ff4000'], ['npiC3', '#ff4000'], ['npiN4', '#fff203'], ['nfaC1', '#ff4000'], ['nfaC2', '#ff4000'], ['nfaC3', '#ff4000'], ['nfaN4', '#fff203'], ['ogoH1', '#46ff03'], ['ogoH2', '#46ff03'], ['ogoH3', '#46ff03'], ['ogoH4', '#46ff03'], ['ogoH5', '#46ff03'], ['ogoC6', '#ff4000'], ['ogoC7', '#ff4000'], ['ogoC8', '#ff4000'], ['dpulC1', '#ff4000'], ['dpulC2', '#ff4000'], ['dpulC3', '#ff4000'], ['dpulC4', '#ff4000'], ['mdolC1', '#ff4000'], ['mdolH2', '#46ff03'], ['mdolH3', '#46ff03'], ['mdolH4', '#46ff03'], ['mdolH5', '#46ff03'], ['mdolC6', '#ff4000'], ['mdolC7', '#ff4000'], ['mdolC8', '#ff4000'], ['mdolC9', '#ff4000'], ['apoH1', '#46ff03'], ['apoC2', '#ff4000'], ['apoH3', '#46ff03'], ['apoH4', '#46ff03'], ['apoC5', '#ff4000'], ['apoC6', '#ff4000'], ['apoC7', '#ff4000'], ['apoC8', '#ff4000'], ['spiN1', '#fff203'], ['spiC2', '#ff4000'], ['spiC3', '#ff4000'], ['samN1', '#fff203'], ['samC2', '#ff4000'], ['samC3', '#ff4000'], ['gmuH1', '#46ff03'], ['gmuH2', '#46ff03'], ['gmuC3', '#ff4000'], ['gmuC4', '#ff4000'], ['gmuN5', '#fff203'], ['gmuC6', '#ff4000'], ['gmuH7', '#46ff03'], ['chisN1', '#fff203'], ['chisC2', '#ff4000'], ['chisC3', '#ff4000'], ['equH1', '#46ff03'], ['equH2', '#46ff03'], ['equH3', '#46ff03'], ['mmeC1', '#ff4000'], ['mmeC2', '#ff4000'], ['mmeN3', '#fff203'], ['mmeN4', '#fff203'], ['mmeC5', '#ff4000'], ['mmeC6', '#ff4000'], ['mmeC7', '#ff4000'], ['mmeN8', '#fff203'], ['mmeC9', '#ff4000'], ['mmeC10', '#ff4000'], ['mmeC11', '#ff4000'], ['mmeC12', '#ff4000'], ['mmeC13', '#ff4000'], ['mmeC14', '#ff4000'], ['mmeC15', '#ff4000'], ['mmeN16', '#fff203'], ['mmeN17', '#fff203'], ['mmeN18', '#fff203'], ['mmeC19', '#ff4000'], ['mmeN20', '#fff203'], ['mmeC21', '#ff4000'], ['mmeC22', '#ff4000'], ['mmeC23', '#ff4000'], ['mmeN24', '#fff203'], ['mmeC25', '#ff4000'], ['mmeC26', '#ff4000'], ['mmeC27', '#ff4000'], ['mmeN28', '#fff203'], ['mmeC29', '#ff4000'], ['mmeN30', '#fff203'], ['rtyH1', '#46ff03'], ['rtyH2', '#46ff03'], ['rtyC3', '#ff4000'], ['rtyH4', '#46ff03'], ['nlecC1', '#ff4000'], ['nlecC2', '#ff4000'], ['nlecC3', '#ff4000'], ['nlecN4', '#fff203'], ['nvirC1', '#ff4000'], ['nvirC2', '#ff4000'], ['nvirC3', '#ff4000'], ['nvirN4', '#fff203'], ['htrC1', '#ff4000'], ['htrC2', '#ff4000'], ['htrH3', '#46ff03'], ['htrH4', '#46ff03'], ['htrH5', '#46ff03'], ['htrH6', '#46ff03'], ['htrH7', '#46ff03'], ['lcuN1', '#fff203'], ['lcuC2', '#ff4000'], ['lcuC3', '#ff4000'], ['hvuN1', '#fff203'], ['hvuN2', '#fff203'], ['sfaH1', '#46ff03'], ['sfaC2', '#ff4000'], ['sfaH3', '#46ff03'], ['sfaH4', '#46ff03'], ['smaC1', '#ff4000'], ['smaC2', '#ff4000'], ['smaH3', '#46ff03'], ['smaH4', '#46ff03'], ['smaC5', '#ff4000'], ['smaH6', '#46ff03'], ['mceC1', '#ff4000'], ['mceH2', '#46ff03'], ['mceH3', '#46ff03'], ['mceH4', '#46ff03'], ['mceC5', '#ff4000'], ['scaH1', '#46ff03'], ['scaH2', '#46ff03'], ['hstC1', '#ff4000'], ['hstH2', '#46ff03'], ['hstH3', '#46ff03'], ['hstH4', '#46ff03'], ['hstC5', '#ff4000'], ['hstN6', '#fff203'], ['hzeC1', '#ff4000'], ['hzeC2', '#ff4000'], ['agrN1', '#fff203'], ['agrC2', '#ff4000'], ['agrC3', '#ff4000'], ['tfuH1', '#46ff03'], ['tfuH2', '#46ff03'], ['tfuH3', '#46ff03'], ['tfuC4', '#ff4000'], ['tfuC5', '#ff4000'], ['tfuC6', '#ff4000'], ['tfuC7', '#ff4000'], ['tfuC8', '#ff4000'], ['pviH1', '#46ff03'], ['pviH2', '#46ff03'], ['pviH3', '#46ff03'], ['lroC1', '#ff4000'], ['lroC2', '#ff4000'], ['lroH3', '#46ff03'], ['lroH4', '#46ff03'], ['lroC5', '#ff4000'], ['lroC6', '#ff4000'], ['lroH7', '#46ff03'], ['lglC1', '#ff4000'], ['lglC2', '#ff4000'], ['btaxH1', '#46ff03'], ['btaxH2', '#46ff03'], ['btaxH3', '#46ff03'], ['btaxH4', '#46ff03'], ['btaxH5', '#46ff03'], ['btaxH6', '#46ff03'], ['sfrC1', '#ff4000'], ['sfrC2', '#ff4000'], ['ploH1', '#46ff03'], ['ploH2', '#46ff03'], ['ploH3', '#46ff03'], ['lmuH1', '#46ff03'], ['lmuH2', '#46ff03'], ['okeC1', '#ff4000'], ['okeC2', '#ff4000'], ['okeH3', '#46ff03'], ['okeC4', '#ff4000'], ['okeH5', '#46ff03'], ['okeH6', '#46ff03'], ['okeH7', '#46ff03'], ['okeH8', '#46ff03'], ['bdoC1', '#ff4000'], ['bdoC2', '#ff4000'], ['bdoN3', '#fff203'], ['ifuN1', '#fff203'], ['ifuC2', '#ff4000'], ['ifuC3', '#ff4000'], ['ifuC4', '#ff4000'], ['ifuC5', '#ff4000'], ['ifuH6', '#46ff03'], ['ifuH7', '#46ff03'], ['ifuH8', '#46ff03'], ['ifuC9', '#ff4000'], ['ifuH10', '#46ff03'], ['ifuH11', '#46ff03'], ['amexH1', '#46ff03'], ['amexC2', '#ff4000'], ['amexH3', '#46ff03'], ['amexC4', '#ff4000'], ['amexC5', '#ff4000'], ['amexH6', '#46ff03'], ['ccarH10', '#46ff03'], ['ccarH11', '#46ff03'], ['ccarH12', '#46ff03'], ['ccarH13', '#46ff03'], ['harC1', '#ff4000'], ['harC2', '#ff4000'], ['punH1', '#46ff03'], ['punH2', '#46ff03'], ['punH3', '#46ff03'], ['cgiH1', '#46ff03'], ['cgiC2', '#ff4000'], ['cgiC3', '#ff4000'], ['cgiC4', '#ff4000'], ['cgiH5', '#46ff03'], ['cgiH6', '#46ff03'], ['cgiC7', '#ff4000'], ['cgiC8', '#ff4000'], ['cgiH9', '#46ff03'], ['cgiH10', '#46ff03'], ['bbrH1', '#46ff03'], ['bbrN2', '#fff203'], ['bbrC3', '#ff4000'], ['bbrC4', '#ff4000'], ['bbrC5', '#ff4000'], ['bbrC6', '#ff4000'], ['bbrH7', '#46ff03'], ['bbrH8', '#46ff03'], ['bbrH9', '#46ff03'], ['scanN1', '#fff203'], ['scanC2', '#ff4000'], ['scanC3', '#ff4000'], ['sserN1', '#fff203'], ['sserC2', '#ff4000'], ['sserC3', '#ff4000'], ['sgrC1', '#ff4000'], ['sgrC2', '#ff4000'], ['sgrN3', '#fff203'], ['sniN1', '#fff203'], ['sniC2', '#ff4000'], ['sniC3', '#ff4000'], ['setH1', '#46ff03'], ['setH2', '#46ff03'], ['setH3', '#46ff03'], ['emaH1', '#46ff03'], ['emaH2', '#46ff03'], ['emaH3', '#46ff03'], ['cgaC1', '#ff4000'], ['cgaC2', '#ff4000'], ['cgaC3', '#ff4000'], ['cgaC4', '#ff4000'], ['cgaH5', '#46ff03'], ['cgaH6', '#46ff03'], ['cgaC7', '#ff4000'], ['cgaH8', '#46ff03'], ['pgoC1', '#ff4000'], ['pgoC2', '#ff4000'], ['atuN1', '#fff203'], ['atuC2', '#ff4000'], ['atuC3', '#ff4000'], ['bafC1', '#ff4000'], ['bafC2', '#ff4000'], ['bafN3', '#fff203'], ['bhuC1', '#ff4000'], ['bhuC2', '#ff4000'], ['bhuN3', '#fff203'], ['mthH1', '#46ff03'], ['mthH2', '#46ff03'], ['mthH3', '#46ff03'], ['bneN1', '#fff203'], ['bneC2', '#ff4000'], ['bneC3', '#ff4000'], ['esiN1', '#fff203'], ['esiC2', '#ff4000'], ['dguC1', '#ff4000'], ['dguC2', '#ff4000'], ['gflH1', '#46ff03'], ['gflH2', '#46ff03'], ['gflH3', '#46ff03'], ['dbiC1', '#ff4000'], ['dbiC2', '#ff4000'], ['hzoH1', '#46ff03'], ['hzoC2', '#ff4000'], ['hzoH3', '#46ff03'], ['hzoH4', '#46ff03'], ['cangN1', '#fff203'], ['cangC2', '#ff4000'], ['cangN3', '#fff203'], ['cangN4', '#fff203'], ['cangN5', '#fff203'], ['cangN6', '#fff203'], ['cangC7', '#ff4000'], ['cangC8', '#ff4000'], ['cangN9', '#fff203'], ['cangC10', '#ff4000'], ['cangC11', '#ff4000'], ['cangN12', '#fff203'], ['cangN13', '#fff203'], ['cangC14', '#ff4000'], ['cangC15', '#ff4000'], ['cangN16', '#fff203'], ['cangN17', '#fff203'], ['cangC18', '#ff4000'], ['cangC19', '#ff4000'], ['cangC20', '#ff4000'], ['cangC21', '#ff4000'], ['cangC22', '#ff4000'], ['cangC23', '#ff4000'], ['cangC24', '#ff4000'], ['cangC25', '#ff4000'], ['cangC26', '#ff4000'], ['xteC1', '#ff4000'], ['xteH2', '#46ff03'], ['xteH3', '#46ff03'], ['xteH4', '#46ff03'], ['xteH5', '#46ff03'], ['xteC6', '#ff4000'], ['xteH7', '#46ff03'], ['mdeC1', '#ff4000'], ['mdeC2', '#ff4000'], ['hhaH1', '#46ff03'], ['hhaH2', '#46ff03'], ['cquaC1', '#ff4000'], ['cquaN2', '#fff203'], ['marN1', '#fff203'], ['marN2', '#fff203'], ['marC3', '#ff4000'], ['marC4', '#ff4000'], ['marN5', '#fff203'], ['marN6', '#fff203'], ['marN7', '#fff203'], ['marC8', '#ff4000'], ['marC9', '#ff4000'], ['marC10', '#ff4000'], ['marC11', '#ff4000'], ['marC12', '#ff4000'], ['marC13', '#ff4000'], ['marC14', '#ff4000'], ['marC15', '#ff4000'], ['marN16', '#fff203'], ['marN17', '#fff203'], ['marC18', '#ff4000'], ['marC19', '#ff4000'], ['marC20', '#ff4000'], ['marN21', '#fff203'], ['marC22', '#ff4000'], ['marC23', '#ff4000'], ['marC24', '#ff4000'], ['marC25', '#ff4000'], ['marC26', '#ff4000'], ['marC27', '#ff4000'], ['marC28', '#ff4000'], ['marN29', '#fff203'], ['marN30', '#fff203'], ['marC31', '#ff4000'], ['marC32', '#ff4000'], ['marC33', '#ff4000'], ['marC34', '#ff4000'], ['marC35', '#ff4000'], ['marC36', '#ff4000'], ['marC37', '#ff4000'], ['marC38', '#ff4000'], ['marC39', '#ff4000'], ['marC40', '#ff4000'], ['praH1', '#46ff03'], ['praH2', '#46ff03'], ['praH3', '#46ff03'], ['hcaH1', '#46ff03'], ['hcaH2', '#46ff03'], ['hcaH3', '#46ff03'], ['hcaH4', '#46ff03'], ['phyH1', '#46ff03'], ['phyH2', '#46ff03'], ['phyH3', '#46ff03'], ['phyC4', '#ff4000'], ['phyC5', '#ff4000'], ['phyC6', '#ff4000'], ['phyC7', '#ff4000'], ['phyC8', '#ff4000'], ['sboH1', '#46ff03'], ['sboH2', '#46ff03'], ['sboH3', '#46ff03'], ['sboH4', '#46ff03'], ['sboH5', '#46ff03'], ['sboH6', '#46ff03'], ['ncoH1', '#46ff03'], ['ncoH2', '#46ff03'], ['ncoH3', '#46ff03'], ['ncoH4', '#46ff03'], ['sjaC1', '#ff4000'], ['sjaH2', '#46ff03'], ['sjaH3', '#46ff03'], ['sjaH4', '#46ff03'], ['sjaC5', '#ff4000'], ['ajuH1', '#46ff03'], ['ajuH2', '#46ff03'], ['ajuH3', '#46ff03'], ['pinC1', '#ff4000'], ['pinC2', '#ff4000'], ['bboH1', '#46ff03'], ['bboH2', '#46ff03'], ['bboH3', '#46ff03'], ['bboH4', '#46ff03'], ['bboC5', '#ff4000'], ['bboC6', '#ff4000'], ['bboC7', '#ff4000'], ['bboC8', '#ff4000'], ['bboH9', '#46ff03'], ['mcaH1', '#46ff03'], ['mcaH2', '#46ff03'], ['mcaH3', '#46ff03'], ['mpaH1', '#46ff03'], ['mpaH2', '#46ff03'], ['mpaH3', '#46ff03'], ['acalC1', '#ff4000'], ['acalH2', '#46ff03'], ['acalH3', '#46ff03'], ['acalH4', '#46ff03'], ['ateC1', '#ff4000'], ['ateC2', '#ff4000'], ['ateC3', '#ff4000'], ['ateH4', '#46ff03'], ['ateH5', '#46ff03'], ['ateH6', '#46ff03'], ['ateC7', '#ff4000'], ['ateC8', '#ff4000'], ['marmH1', '#46ff03'], ['marmC2', '#ff4000'], ['marmH3', '#46ff03'], ['marmC4', '#ff4000'], ['marmC5', '#ff4000'], ['marmH6', '#46ff03'], ['marmH7', '#46ff03'], ['achH1', '#46ff03'], ['achH2', '#46ff03'], ['cgoH1', '#46ff03'], ['cgoC2', '#ff4000'], ['cgoC3', '#ff4000'], ['cgoH4', '#46ff03'], ['cgoH5', '#46ff03'], ['cgoC6', '#ff4000'], ['pranC1', '#ff4000'], ['pranC2', '#ff4000'], ['pranH3', '#46ff03'], ['pranH4', '#46ff03'], ['pranH5', '#46ff03'], ['gwiC1', '#ff4000'], ['gwiC2', '#ff4000'], ['gwiH3', '#46ff03'], ['gwiC4', '#ff4000'], ['gwiH5', '#46ff03'], ['gwiH6', '#46ff03'], ['bspH1', '#46ff03'], ['bspH2', '#46ff03'], ['bspH3', '#46ff03'], ['bspC4', '#ff4000'], ['bspH5', '#46ff03'], ['bspC6', '#ff4000'], ['bspC7', '#ff4000'], ['dclH1', '#46ff03'], ['dclH2', '#46ff03'], ['dclH3', '#46ff03'], ['dclC4', '#ff4000'], ['charH1', '#46ff03'], ['charH2', '#46ff03'], ['charH3', '#46ff03'], ['charC4', '#ff4000'], ['charC5', '#ff4000'], ['charC6', '#ff4000'], ['ecalH1', '#46ff03'], ['ecalH2', '#46ff03'], ['ecalC3', '#ff4000'], ['ecalC4', '#ff4000'], ['ecalH5', '#46ff03'], ['ecalC6', '#ff4000'], ['ecalC7', '#ff4000'], ['ecalC8', '#ff4000'], ['sauH1', '#46ff03'], ['sauH2', '#46ff03'], ['sauC3', '#ff4000'], ['sauC4', '#ff4000'], ['sauC5', '#ff4000'], ['sauC6', '#ff4000'], ['sauH7', '#46ff03'], ['enaC1', '#ff4000'], ['enaH2', '#46ff03'], ['enaH3', '#46ff03'], ['enaC4', '#ff4000'], ['enaH5', '#46ff03'], ['sfoH1', '#46ff03'], ['sfoH2', '#46ff03'], ['sfoC3', '#ff4000'], ['sfoC4', '#ff4000'], ['sfoH5', '#46ff03'], ['truH1', '#46ff03'], ['truH2', '#46ff03'], ['truH3', '#46ff03'], ['rbiH1', '#46ff03'], ['rbiH2', '#46ff03'], ['rbiH3', '#46ff03'], ['rbiH4', '#46ff03'], ['strH1', '#46ff03'], ['strC2', '#ff4000'], ['strH3', '#46ff03'], ['strH4', '#46ff03'], ['strH5', '#46ff03'], ['strH6', '#46ff03'], ['strH7', '#46ff03'], ['strH8', '#46ff03'], ['strH9', '#46ff03'], ['strH10', '#46ff03'], ['strH11', '#46ff03'], ['strC12', '#ff4000'], ['strC13', '#ff4000'], ['strC14', '#ff4000'], ['strH15', '#46ff03'], ['strH16', '#46ff03'], ['strH17', '#46ff03'], ['strC18', '#ff4000'], ['sacC1', '#ff4000'], ['sacH2', '#46ff03'], ['sacH3', '#46ff03'], ['sacH4', '#46ff03'], ['muniH1', '#46ff03'], ['muniH2', '#46ff03'], ['muniH3', '#46ff03'], ['muniH4', '#46ff03'], ['cpaH1', '#46ff03'], ['cpaH2', '#46ff03'], ['sfasC1', '#ff4000'], ['sfasH2', '#46ff03'], ['sfasH3', '#46ff03'], ['sfasH4', '#46ff03'], ['sfasC5', '#ff4000'], ['sfasC6', '#ff4000'], ['sorC1', '#ff4000'], ['sorH2', '#46ff03'], ['sorC3', '#ff4000'], ['sorH4', '#46ff03'], ['sorH5', '#46ff03'], ['mmurH4', '#46ff03'], ['mmurC5', '#ff4000'], ['mmurC6', '#ff4000'], ['mmurH7', '#46ff03'], ['mmurH8', '#46ff03'], ['gmoC1', '#ff4000'], ['gmoH2', '#46ff03'], ['gmoH3', '#46ff03'], ['gmoH4', '#46ff03'], ['gmoC5', '#ff4000'], ['cchC1', '#ff4000'], ['cchH2', '#46ff03'], ['cchH3', '#46ff03'], ['cchH4', '#46ff03'], ['cchH5', '#46ff03'], ['cchC6', '#ff4000'], ['cchC7', '#ff4000'], ['cchC8', '#ff4000'], ['cchC9', '#ff4000'], ['cchH10', '#46ff03'], ['gseH1', '#46ff03'], ['gseH2', '#46ff03'], ['gseH3', '#46ff03'], ['gseH4', '#46ff03'], ['tamH1', '#46ff03'], ['tamH2', '#46ff03'], ['tamH3', '#46ff03'], ['tamH4', '#46ff03'], ['tamC5', '#ff4000'], ['sharH1', '#46ff03'], ['sharH2', '#46ff03'], ['sharH3', '#46ff03'], ['pmaxN1', '#fff203'], ['pmaxN2', '#fff203'], ['pmaxC3', '#ff4000'], ['pmaxC4', '#ff4000'], ['pmaxN5', '#fff203'], ['pmaxC6', '#ff4000'], ['pmaxN7', '#fff203'], ['pmaxN8', '#fff203'], ['pmaxN9', '#fff203'], ['pmaxN10', '#fff203'], ['pmaxN11', '#fff203'], ['pmaxC12', '#ff4000'], ['pmaxC13', '#ff4000'], ['pmaxN14', '#fff203'], ['lluH1', '#46ff03'], ['lluH2', '#46ff03'], ['lluH3', '#46ff03'], ['scarH1', '#46ff03'], ['scarH2', '#46ff03'], ['scarH3', '#46ff03'], ['scanH4', '#46ff03'], ['scanC5', '#ff4000'], ['scanH6', '#46ff03'], ['scanC7', '#ff4000'], ['scanH8', '#46ff03'], ['cgigC1', '#ff4000'], ['cgigN2', '#fff203'], ['cgigC3', '#ff4000'], ['cgigN4', '#fff203'], ['cgigN5', '#fff203'], ['cgigN6', '#fff203'], ['cgigC7', '#ff4000'], ['cgigN8', '#fff203'], ['cgigN9', '#fff203'], ['cgigC10', '#ff4000'], ['cgigC11', '#ff4000'], ['cgigC12', '#ff4000'], ['cgigC13', '#ff4000'], ['cgigC14', '#ff4000'], ['cgigN15', '#fff203'], ['cgigN16', '#fff203'], ['cgigN17', '#fff203'], ['cgigN18', '#fff203'], ['cgigN19', '#fff203'], ['cgigC20', '#ff4000'], ['cgigC21', '#ff4000'], ['cgigC22', '#ff4000'], ['cgigC23', '#ff4000'], ['cgigC24', '#ff4000'], ['cgigC25', '#ff4000'], ['cgigC26', '#ff4000'], ['mhyC1', '#ff4000'], ['mhyC2', '#ff4000'], ['pgeC1', '#ff4000'], ['pgeH2', '#46ff03'], ['pgeH3', '#46ff03'], ['pgeH4', '#46ff03'], ['aamH1', '#46ff03'], ['aamH2', '#46ff03'], ['aamH3', '#46ff03'], ['otoH1', '#46ff03'], ['otoH2', '#46ff03'], ['otoH3', '#46ff03'], ['arusH1', '#46ff03'], ['arusH2', '#46ff03'], ['arusH3', '#46ff03'], ['arusH4', '#46ff03'], ['alaH1', '#46ff03'], ['alaH2', '#46ff03'], ['alaC3', '#ff4000'], ['alaC4', '#ff4000'], ['alaN5', '#fff203'], ['alaC6', '#ff4000'], ['alaH7', '#46ff03'], ['hilC1', '#ff4000'], ['hilN2', '#fff203'], ['hilC3', '#ff4000'], ['nioN1', '#fff203'], ['nioC2', '#ff4000'], ['nioC3', '#ff4000'], ['pbrC1', '#ff4000'], ['pbrC2', '#ff4000'], ['aagC1', '#ff4000'], ['aagC2', '#ff4000'], ['vatC1', '#ff4000'], ['vatC2', '#ff4000'], ['prapC1', '#ff4000'], ['prapC2', '#ff4000'], ['paeC1', '#ff4000'], ['paeC2', '#ff4000'], ['bbufH1', '#46ff03'], ['bbufH2', '#46ff03'], ['bbufH3', '#46ff03'], ['rteH1', '#46ff03'], ['rteH2', '#46ff03'], ['rteN3', '#fff203'], ['rteH4', '#46ff03'], ['vcarC1', '#ff4000'], ['vcarC2', '#ff4000'], ['ccrC1', '#ff4000'], ['ccrC2', '#ff4000'], ['mciC1', '#ff4000'], ['mciC2', '#ff4000'], ['ssaH1', '#46ff03'], ['ssaH2', '#46ff03'], ['ssaH3', '#46ff03'], ['ssaC4', '#ff4000'], ['ssaH5', '#46ff03'], ['ssaC6', '#ff4000'], ['ssaC7', '#ff4000'], ['ssaC8', '#ff4000'], ['ssaC9', '#ff4000'], ['ssaC10', '#ff4000'], ['ssaC11', '#ff4000'], ['ssaH12', '#46ff03'], ['ssaH13', '#46ff03'], ['mjuC1', '#ff4000'], ['mjuC2', '#ff4000'], ['lsiC1', '#ff4000'], ['lsiC2', '#ff4000'], ['vvuC1', '#ff4000'], ['vvuN2', '#fff203'], ['ccarN14', '#fff203'], ['ccarC15', '#ff4000'], ['pnapC1', '#ff4000'], ['pnapC2', '#ff4000'], ['obicC1', '#ff4000'], ['obicN2', '#fff203'], ['obicC3', '#ff4000'], ['csepC1', '#ff4000'], ['csepC2', '#ff4000'], ['vcrC1', '#ff4000'], ['vcrN2', '#fff203'], ['bteC1', '#ff4000'], ['bteC2', '#ff4000'], ['bteN3', '#fff203'], ['celH1', '#46ff03'], ['celH2', '#46ff03'], ['celH3', '#46ff03'], ['celH4', '#46ff03'], ['celH5', '#46ff03'], ['tmaC1', '#ff4000'], ['tmaH2', '#46ff03'], ['tmaH3', '#46ff03'], ['tmaH4', '#46ff03'], ['tmaC5', '#ff4000'], ['tmaC6', '#ff4000'], ['tmaC7', '#ff4000'], ['vveC1', '#ff4000'], ['vveN2', '#fff203'], ['pmacC1', '#ff4000'], ['pmacC2', '#ff4000'], ['talC1', '#ff4000'], ['talC2', '#ff4000'], ['talC3', '#ff4000'], ['talC4', '#ff4000'], ['talH5', '#46ff03'], ['talH6', '#46ff03'], ['talH7', '#46ff03'], ['haxC1', '#ff4000'], ['haxC2', '#ff4000'], ['haxN3', '#fff203'], ['aroC1', '#ff4000'], ['aroN2', '#fff203'], ['dviC1', '#ff4000'], ['dviN2', '#fff203'], ['dviC3', '#ff4000'], ['ielC1', '#ff4000'], ['ielC2', '#ff4000'], ['ielC3', '#ff4000'], ['mmelH1', '#46ff03'], ['mmelH2', '#46ff03'], ['mmelH3', '#46ff03'], ['ageH1', '#46ff03'], ['ageH2', '#46ff03'], ['pvuN1', '#fff203'], ['pvuC2', '#ff4000'], ['pvuC3', '#ff4000'], ['pvuC4', '#ff4000'], ['pvuC5', '#ff4000'], ['pvuC6', '#ff4000'], ['pvuN7', '#fff203'], ['pvuC8', '#ff4000'], ['pvuN9', '#fff203'], ['pvuC10', '#ff4000'], ['pvuC11', '#ff4000'], ['pvuC12', '#ff4000'], ['pvuC13', '#ff4000'], ['pxyC1', '#ff4000'], ['pxyN2', '#fff203'], ['nveN1', '#fff203'], ['nveN2', '#fff203'], ['nveN3', '#fff203'], ['nveN4', '#fff203'], ['oorH1', '#46ff03'], ['oorH2', '#46ff03'], ['oorH3', '#46ff03'], ['acrC1', '#ff4000'], ['acrC2', '#ff4000'], ['aaqC1', '#ff4000'], ['aaqC2', '#ff4000'], ['acoC1', '#ff4000'], ['acoC2', '#ff4000'], ['acoN3', '#fff203'], ['amaC1', '#ff4000'], ['amaC2', '#ff4000'], ['amarC1', '#ff4000'], ['amarC2', '#ff4000'], ['adaC1', '#ff4000'], ['adaC2', '#ff4000'], ['amoC1', '#ff4000'], ['amoC2', '#ff4000'], ['afunC1', '#ff4000'], ['afunC2', '#ff4000'], ['anilC1', '#ff4000'], ['anilC2', '#ff4000'], ['banC1', '#ff4000'], ['banC2', '#ff4000'], ['asyH1', '#46ff03'], ['asyH2', '#46ff03'], ['asyH3', '#46ff03'], ['pplC1', '#ff4000'], ['pplH2', '#46ff03'], ['pplH3', '#46ff03'], ['pplH4', '#46ff03'], ['pplC5', '#ff4000']]\n"
     ]
    }
   ],
   "source": [
    "# Para buscar quitina/hialuronano/desconocido | OPCION 2\n",
    "\n",
    "chn_dataframe[\"CEP\"] = [\"\"]*len(chn_dataframe)\n",
    "#chn_dataframe[\"colorezzz\"][chn_dataframe[0].str.contains(\"C\")] = \"#ff4000\"\n",
    "chn_dataframe.loc[chn_dataframe['COD'].str.contains('C'), 'CEP'] = \"#ff4000\" #orange\n",
    "chn_dataframe.loc[chn_dataframe['COD'].str.contains('H'), 'CEP'] = \"#46ff03\" #green\n",
    "chn_dataframe.loc[chn_dataframe['COD'].str.contains('N'), 'CEP'] = \"#fff203\" #yellow\n",
    "tempd_df = chn_dataframe[[\"COD\",\"CEP\"]]\n",
    "df_2_list = tempd_df.values.tolist()\n",
    "#chn_dataframe.to_csv('eaea.txt', sep = '\\t', header = None, index = None)\n",
    "print(df_2_list)"
   ]
  },
  {
   "cell_type": "code",
   "execution_count": null,
   "id": "93ba805e-3e42-4633-87e4-f932f865ab5c",
   "metadata": {},
   "outputs": [],
   "source": [
    "infile = \"eaea.txt\"\n",
    "outfile = \"testo.txt\"\n",
    "with open(infile, \"r\") as infile, open(outfile, \"w\") as output:\n",
    "    output.write(\"Hello?\\n\")\n",
    "    output.write(\"Testing, testing!\\n\")\n",
    "    output.write(\"... Well I heard you loud and clear!\\n\")\n",
    "    output.write(infile)"
   ]
  },
  {
   "cell_type": "code",
   "execution_count": null,
   "id": "95759d20-8606-48ad-819f-5687d0821445",
   "metadata": {},
   "outputs": [],
   "source": [
    "chitin = pd.read_csv(\"Chitin_list.txt\", sep = \"\\t\", names = [\"COD\",\"ext_clade\",\"part_color\",\"C_color\"])"
   ]
  },
  {
   "cell_type": "code",
   "execution_count": null,
   "id": "8fef8b2d-9e2d-4f2d-85c6-33e58c2642a4",
   "metadata": {},
   "outputs": [],
   "source": [
    "chitin"
   ]
  },
  {
   "cell_type": "code",
   "execution_count": null,
   "id": "3e191bff-447a-45e0-9b44-1cc2f448e16f",
   "metadata": {},
   "outputs": [],
   "source": [
    "chitin[\"C_color\"]=\"#b545e\""
   ]
  },
  {
   "cell_type": "code",
   "execution_count": null,
   "id": "b32021b0-040d-415c-af53-ab80408abbb6",
   "metadata": {},
   "outputs": [],
   "source": [
    "chitin[[\"COD\",\"C_color\"]]"
   ]
  },
  {
   "cell_type": "code",
   "execution_count": null,
   "id": "a2c107cc-aef2-4d94-b682-bb32782cc10d",
   "metadata": {},
   "outputs": [],
   "source": [
    "len(unique_clades)"
   ]
  },
  {
   "cell_type": "code",
   "execution_count": null,
   "id": "2cd6d081-e481-427b-9104-33e3444b7dc5",
   "metadata": {},
   "outputs": [],
   "source": [
    "# DS_LEGEND_COLORS\n",
    "# Usamos la lista resultado de ordenar y filtrar duplicados llamada aqui \"unique_clades\"\n",
    "label_count = len(unique_clades) # 5 elementos en este caso\n",
    "\n",
    "# Creamos el diccionario para asignar colores dependiendo de cuántos elementos esten en \"label_count\"\n",
    "color_mapping = {\n",
    "    1:[\"#eb4034\"],\n",
    "    2:[\"#eb4034\",\"#fa8b0c\"],\n",
    "    3:[\"#eb4034\",\"#fa8b0c\",\"#fae20c\"],\n",
    "    4:[\"#eb4034\",\"#fa8b0c\",\"#fae20c\",\"#93fa0c\"],\n",
    "    5:[\"#eb4034\",\"#fa8b0c\",\"#fae20c\",\"#93fa0c\",\"#0cfaf6\"],\n",
    "    6:[\"#eb4034\",\"#fa8b0c\",\"#fae20c\",\"#93fa0c\",\"#0cfaf6\", \"#0c34fa\"],\n",
    "    7:[\"#eb4034\",\"#fa8b0c\",\"#fae20c\",\"#93fa0c\",\"#0cfaf6\", \"#0c34fa\",\"#d60cfa\"],\n",
    "}\n",
    "\n",
    "# Busca los colores correspondientes dependiento del número de elementos\n",
    "label_hex_colors = color_mapping.get(label_count,['#000000']*label_count)\n",
    "label_line = '\\t'.join(label_hex_colors)\n",
    "label_line"
   ]
  },
  {
   "cell_type": "code",
   "execution_count": null,
   "id": "4f893f85-3e1e-4de1-96f5-c7a529c99651",
   "metadata": {},
   "outputs": [],
   "source": [
    "# DS_LEGEND_SHAPES\n",
    "# Usamos la lista resultado de ordenar y filtrar duplicados llamada aqui \"unique_clades\"\n",
    "label_count = len(unique_clades) # 5 elementos en este caso\n",
    "\n",
    "# Creamos la línea de un sólo tipo de figuras, total lo que importa es el color\n",
    "# Puedes cambiar el '1' por cualquier numero del 1-5, depende de ti cual te guste más\n",
    "shape_line = '\\t'.join(['1']*label_count)\n",
    "shape_line"
   ]
  },
  {
   "cell_type": "code",
   "execution_count": null,
   "id": "8a7dde82-e4ac-45bc-b281-f9c08151d94c",
   "metadata": {},
   "outputs": [],
   "source": [
    "# DS_LEGEND_SHAPE_SCALES\n",
    "# Usamos la lista resultado de ordenar y filtrar duplicados llamada aqui \"unique_clades\"\n",
    "label_count = len(unique_clades) # 5 elementos en este caso\n",
    "\n",
    "# Creamos la línea de un sólo tipo de figuras, total lo que importa es el color\n",
    "# Puedes cambiar el '1' por cualquier numero del 1-5, depende de ti cual te guste más\n",
    "shape_line_scale = '\\t'.join(['1']*label_count)\n",
    "shape_line_scale"
   ]
  }
 ],
 "metadata": {
  "kernelspec": {
   "display_name": "Python 3 (ipykernel)",
   "language": "python",
   "name": "python3"
  },
  "language_info": {
   "codemirror_mode": {
    "name": "ipython",
    "version": 3
   },
   "file_extension": ".py",
   "mimetype": "text/x-python",
   "name": "python",
   "nbconvert_exporter": "python",
   "pygments_lexer": "ipython3",
   "version": "3.9.17"
  }
 },
 "nbformat": 4,
 "nbformat_minor": 5
}
