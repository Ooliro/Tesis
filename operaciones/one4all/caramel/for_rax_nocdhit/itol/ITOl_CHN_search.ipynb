{
 "cells": [
  {
   "cell_type": "code",
   "execution_count": 1,
   "id": "5a644c7d-5b61-47e7-acf2-32638bbcc983",
   "metadata": {},
   "outputs": [],
   "source": [
    "import pandas as pd\n",
    "import sys\n",
    "#import io Funciona cuando lo que quieres meter no es un dataframe xd"
   ]
  },
  {
   "cell_type": "code",
   "execution_count": null,
   "id": "57c1b5ec-d90e-47b9-a892-a3e4e601e684",
   "metadata": {},
   "outputs": [],
   "source": [
    "# DS_LEGEND_LABELS\n",
    "#input = sys.argv[1]\n",
    "input = \"/home/raulrosas//Documentos/IFC/repo/operaciones/one4all/caramel/for_rax_nocdhit/itol/extended_simple_clades.txt\"\n",
    "dataframe = pd.read_csv(input, sep = \"\\t\", header = None,)"
   ]
  },
  {
   "cell_type": "code",
   "execution_count": null,
   "id": "be3773d5-76b5-4b6a-aff0-de8da2eb9b28",
   "metadata": {},
   "outputs": [],
   "source": [
    "dataframe"
   ]
  },
  {
   "cell_type": "code",
   "execution_count": null,
   "id": "b22bd3e3-7caf-4f51-9f7d-5f736252b83b",
   "metadata": {},
   "outputs": [],
   "source": [
    "interest_column = dataframe.iloc[:,3]"
   ]
  },
  {
   "cell_type": "code",
   "execution_count": null,
   "id": "182103e2-f46c-407e-88be-4658b2c309f1",
   "metadata": {},
   "outputs": [],
   "source": [
    "unique_clades = sorted(interest_column.unique())\n",
    "print(unique_clades)\n",
    "print(type(unique_clades))"
   ]
  },
  {
   "cell_type": "code",
   "execution_count": null,
   "id": "b024f604-8996-4b37-b250-010b92e072b5",
   "metadata": {},
   "outputs": [],
   "source": [
    "unique_clades = unique_clades[:6]\n",
    "unique_clades"
   ]
  },
  {
   "cell_type": "code",
   "execution_count": null,
   "id": "459d505a-6c12-4e96-b0df-fd828118eaf4",
   "metadata": {},
   "outputs": [],
   "source": [
    "result_string = '\\t'.join(unique_clades)\n",
    "result_string += '\\n'\n",
    "result_string"
   ]
  },
  {
   "cell_type": "code",
   "execution_count": null,
   "id": "5f07f92e-0826-4f67-b133-e13666c4f841",
   "metadata": {},
   "outputs": [],
   "source": [
    "len(unique_clades)"
   ]
  },
  {
   "cell_type": "code",
   "execution_count": null,
   "id": "2f5b668a-da12-48c3-8fb2-2189a2556d99",
   "metadata": {},
   "outputs": [],
   "source": [
    "search_c = chn_dataframe[dataframe[0].str.contains(\"C\")]\n",
    "chitin_color = \"#ff4000\" #orange\n",
    "search_h = chn_dataframe[dataframe[0].str.contains(\"H\")]\n",
    "hyaluronan_color = \"#46ff03\" #green\n",
    "search_n = chn_dataframe[dataframe[0].str.contains(\"N\")]\n",
    "none_color = \"fff203\" #yellow\n",
    "\n",
    "search_c.loc[:,'CEP'] = chitin_color\n",
    "search_h.loc[:,'CEP'] = hyaluronan_color\n",
    "search_n.loc[:,'CEP'] = none_color\n",
    "#search.to_csv(\"Chitin_list.txt\", index = False, sep = \"\\t\", header = None)\n",
    "\n"
   ]
  },
  {
   "cell_type": "code",
   "execution_count": 2,
   "id": "495f7941-06bd-455b-93e0-9128ffda6729",
   "metadata": {
    "scrolled": true
   },
   "outputs": [
    {
     "data": {
      "text/html": [
       "<div>\n",
       "<style scoped>\n",
       "    .dataframe tbody tr th:only-of-type {\n",
       "        vertical-align: middle;\n",
       "    }\n",
       "\n",
       "    .dataframe tbody tr th {\n",
       "        vertical-align: top;\n",
       "    }\n",
       "\n",
       "    .dataframe thead th {\n",
       "        text-align: right;\n",
       "    }\n",
       "</style>\n",
       "<table border=\"1\" class=\"dataframe\">\n",
       "  <thead>\n",
       "    <tr style=\"text-align: right;\">\n",
       "      <th></th>\n",
       "      <th>COD</th>\n",
       "      <th>HEX</th>\n",
       "      <th>Clade</th>\n",
       "    </tr>\n",
       "  </thead>\n",
       "  <tbody>\n",
       "    <tr>\n",
       "      <th>0</th>\n",
       "      <td>dmeC1</td>\n",
       "      <td>#fcba03</td>\n",
       "      <td>Arthropoda</td>\n",
       "    </tr>\n",
       "    <tr>\n",
       "      <th>1</th>\n",
       "      <td>dmeN2</td>\n",
       "      <td>#fcba03</td>\n",
       "      <td>Arthropoda</td>\n",
       "    </tr>\n",
       "    <tr>\n",
       "      <th>2</th>\n",
       "      <td>hsaH4</td>\n",
       "      <td>#fc2c03</td>\n",
       "      <td>Chordata</td>\n",
       "    </tr>\n",
       "    <tr>\n",
       "      <th>3</th>\n",
       "      <td>hsaH5</td>\n",
       "      <td>#fc2c03</td>\n",
       "      <td>Chordata</td>\n",
       "    </tr>\n",
       "    <tr>\n",
       "      <th>4</th>\n",
       "      <td>hsaH6</td>\n",
       "      <td>#fc2c03</td>\n",
       "      <td>Chordata</td>\n",
       "    </tr>\n",
       "    <tr>\n",
       "      <th>...</th>\n",
       "      <td>...</td>\n",
       "      <td>...</td>\n",
       "      <td>...</td>\n",
       "    </tr>\n",
       "    <tr>\n",
       "      <th>1941</th>\n",
       "      <td>pplC1</td>\n",
       "      <td>#fc2c03</td>\n",
       "      <td>Chordata</td>\n",
       "    </tr>\n",
       "    <tr>\n",
       "      <th>1942</th>\n",
       "      <td>pplH2</td>\n",
       "      <td>#fc2c03</td>\n",
       "      <td>Chordata</td>\n",
       "    </tr>\n",
       "    <tr>\n",
       "      <th>1943</th>\n",
       "      <td>pplH3</td>\n",
       "      <td>#fc2c03</td>\n",
       "      <td>Chordata</td>\n",
       "    </tr>\n",
       "    <tr>\n",
       "      <th>1944</th>\n",
       "      <td>pplH4</td>\n",
       "      <td>#fc2c03</td>\n",
       "      <td>Chordata</td>\n",
       "    </tr>\n",
       "    <tr>\n",
       "      <th>1945</th>\n",
       "      <td>pplC5</td>\n",
       "      <td>#fc2c03</td>\n",
       "      <td>Chordata</td>\n",
       "    </tr>\n",
       "  </tbody>\n",
       "</table>\n",
       "<p>1946 rows × 3 columns</p>\n",
       "</div>"
      ],
      "text/plain": [
       "        COD      HEX       Clade\n",
       "0     dmeC1  #fcba03  Arthropoda\n",
       "1     dmeN2  #fcba03  Arthropoda\n",
       "2     hsaH4  #fc2c03    Chordata\n",
       "3     hsaH5  #fc2c03    Chordata\n",
       "4     hsaH6  #fc2c03    Chordata\n",
       "...     ...      ...         ...\n",
       "1941  pplC1  #fc2c03    Chordata\n",
       "1942  pplH2  #fc2c03    Chordata\n",
       "1943  pplH3  #fc2c03    Chordata\n",
       "1944  pplH4  #fc2c03    Chordata\n",
       "1945  pplC5  #fc2c03    Chordata\n",
       "\n",
       "[1946 rows x 3 columns]"
      ]
     },
     "execution_count": 2,
     "metadata": {},
     "output_type": "execute_result"
    }
   ],
   "source": [
    "# Para buscar quitinas/hialuronano/sin definir | OPCION 1\n",
    "second_input = \"/home/raulrosas/Documentos/IFC/repo/operaciones/one4all/caramel/for_rax_nocdhit/itol/ITOL_simplified_clades.txt\"\n",
    "chn_dataframe = pd.read_csv(second_input, sep = \"\\t\", header= None, skiprows=13,names = [\"COD\",\"HEX\",\"Clade\"])\n",
    "chn_dataframe\n",
    "#len(chn_dataframe)"
   ]
  },
  {
   "cell_type": "code",
   "execution_count": 29,
   "id": "5238b7ac-4fe0-4c0d-b46b-2d6de867cbf9",
   "metadata": {},
   "outputs": [],
   "source": [
    "# Para buscar quitina/hialuronano/desconocido | OPCION 2\n",
    "\n",
    "#Agrega una columna vacia y rellena con las coincidencias de tus busquedas individuales. Guarda ese DF a un archivo\n",
    "chn_dataframe[\"CEP\"] = [\"\"]*len(chn_dataframe)\n",
    "chn_dataframe.loc[chn_dataframe['COD'].str.contains('C'), 'CEP'] = \"#ff4000\" #orange\n",
    "chn_dataframe.loc[chn_dataframe['COD'].str.contains('H'), 'CEP'] = \"#46ff03\" #green\n",
    "chn_dataframe.loc[chn_dataframe['COD'].str.contains('N'), 'CEP'] = \"#fff203\" #yellow\n",
    "#tempd_df = chn_dataframe[[\"COD\",\"CEP\"]]\n",
    "chn_dataframe.to_csv('CHN_noheader.txt', sep = '\\t', header = None, index = None)\n",
    "\n",
    "# Crea la información que va a ir al principio de tu archivo anterior\n",
    "chn_header_info = \"DATASET_COLORSTRIP\\nSEPARATOR TAB\\nDATASET_LABEL\\tC|H|N DISTRIBUTION\\nCOLOR\\t#ffff00\\n\"\n",
    "chn_header_legend = \"LEGEND_TITLE\\tCOLORED_PROTEINS\\nLEGEND_POSITION_X\\t250\\nLEGEND_POSITION_Y\\t100\\nLEGEND_HORIZONTAL\\t0\\n\"\n",
    "chn_header_shapes = \"LEGEND_SHAPES\\t1\\t1\\t1\\n\"\n",
    "chn_header_colors = \"LEGEND_COLORS\\t#ff4000\\t#46ff03\\t#fff203\\n\"\n",
    "chn_header_labels = \"LEGEND_LABELS\\tQuitina\\tHialuronano\\tNA\\n\"\n",
    "chn_header_scales = \"LEGEND_SHAPE_SCALES\\t1\\t1\\t1\\n\"\n",
    "chn_header_data_delimiter = \"DATA\\n\"\n",
    "\n",
    "# Combina tu archivo de información con tus headers\n",
    "chn_in = \"CHN_noheader.txt\"\n",
    "chn_out = \"CHN_with_header.txt\"\n",
    "with open(chn_in,\"r\") as input, open(chn_out,\"w\") as output:\n",
    "    output.write(chn_header_info)\n",
    "    output.write(chn_header_legend)\n",
    "    output.write(chn_header_shapes)\n",
    "    output.write(chn_header_colors)\n",
    "    output.write(chn_header_labels)\n",
    "    output.write(chn_header_scales)\n",
    "    output.write(chn_header_data_delimiter)\n",
    "    for line in input:\n",
    "        columns = line.strip().split()\n",
    "        if len(columns)>= 4:\n",
    "            cod = columns[0]\n",
    "            color = columns[3]\n",
    "            output.write(f\"{cod}\\t{color}\\n\")\n",
    "        \n",
    "    \n",
    "    \n",
    "#print(df_2_list)"
   ]
  },
  {
   "cell_type": "code",
   "execution_count": null,
   "id": "93ba805e-3e42-4633-87e4-f932f865ab5c",
   "metadata": {},
   "outputs": [],
   "source": [
    "infile = \"eaea.txt\"\n",
    "outfile = \"testo.txt\"\n",
    "with open(infile, \"r\") as infile, open(outfile, \"w\") as output:\n",
    "    output.write(\"Hello?\\n\")\n",
    "    output.write(\"Testing, testing!\\n\")\n",
    "    output.write(\"... Well I heard you loud and clear!\\n\")\n",
    "    output.write(infile)"
   ]
  },
  {
   "cell_type": "code",
   "execution_count": null,
   "id": "95759d20-8606-48ad-819f-5687d0821445",
   "metadata": {},
   "outputs": [],
   "source": [
    "chitin = pd.read_csv(\"Chitin_list.txt\", sep = \"\\t\", names = [\"COD\",\"ext_clade\",\"part_color\",\"C_color\"])"
   ]
  },
  {
   "cell_type": "code",
   "execution_count": null,
   "id": "8fef8b2d-9e2d-4f2d-85c6-33e58c2642a4",
   "metadata": {},
   "outputs": [],
   "source": [
    "chitin"
   ]
  },
  {
   "cell_type": "code",
   "execution_count": null,
   "id": "3e191bff-447a-45e0-9b44-1cc2f448e16f",
   "metadata": {},
   "outputs": [],
   "source": [
    "chitin[\"C_color\"]=\"#b545e\""
   ]
  },
  {
   "cell_type": "code",
   "execution_count": null,
   "id": "b32021b0-040d-415c-af53-ab80408abbb6",
   "metadata": {},
   "outputs": [],
   "source": [
    "chitin[[\"COD\",\"C_color\"]]"
   ]
  },
  {
   "cell_type": "code",
   "execution_count": null,
   "id": "a2c107cc-aef2-4d94-b682-bb32782cc10d",
   "metadata": {},
   "outputs": [],
   "source": [
    "len(unique_clades)"
   ]
  },
  {
   "cell_type": "code",
   "execution_count": null,
   "id": "2cd6d081-e481-427b-9104-33e3444b7dc5",
   "metadata": {},
   "outputs": [],
   "source": [
    "# DS_LEGEND_COLORS\n",
    "# Usamos la lista resultado de ordenar y filtrar duplicados llamada aqui \"unique_clades\"\n",
    "label_count = len(unique_clades) # 5 elementos en este caso\n",
    "\n",
    "# Creamos el diccionario para asignar colores dependiendo de cuántos elementos esten en \"label_count\"\n",
    "color_mapping = {\n",
    "    1:[\"#eb4034\"],\n",
    "    2:[\"#eb4034\",\"#fa8b0c\"],\n",
    "    3:[\"#eb4034\",\"#fa8b0c\",\"#fae20c\"],\n",
    "    4:[\"#eb4034\",\"#fa8b0c\",\"#fae20c\",\"#93fa0c\"],\n",
    "    5:[\"#eb4034\",\"#fa8b0c\",\"#fae20c\",\"#93fa0c\",\"#0cfaf6\"],\n",
    "    6:[\"#eb4034\",\"#fa8b0c\",\"#fae20c\",\"#93fa0c\",\"#0cfaf6\", \"#0c34fa\"],\n",
    "    7:[\"#eb4034\",\"#fa8b0c\",\"#fae20c\",\"#93fa0c\",\"#0cfaf6\", \"#0c34fa\",\"#d60cfa\"],\n",
    "}\n",
    "\n",
    "# Busca los colores correspondientes dependiento del número de elementos\n",
    "label_hex_colors = color_mapping.get(label_count,['#000000']*label_count)\n",
    "label_line = '\\t'.join(label_hex_colors)\n",
    "label_line"
   ]
  },
  {
   "cell_type": "code",
   "execution_count": null,
   "id": "4f893f85-3e1e-4de1-96f5-c7a529c99651",
   "metadata": {},
   "outputs": [],
   "source": [
    "# DS_LEGEND_SHAPES\n",
    "# Usamos la lista resultado de ordenar y filtrar duplicados llamada aqui \"unique_clades\"\n",
    "label_count = len(unique_clades) # 5 elementos en este caso\n",
    "\n",
    "# Creamos la línea de un sólo tipo de figuras, total lo que importa es el color\n",
    "# Puedes cambiar el '1' por cualquier numero del 1-5, depende de ti cual te guste más\n",
    "shape_line = '\\t'.join(['1']*label_count)\n",
    "shape_line"
   ]
  },
  {
   "cell_type": "code",
   "execution_count": null,
   "id": "8a7dde82-e4ac-45bc-b281-f9c08151d94c",
   "metadata": {},
   "outputs": [],
   "source": [
    "# DS_LEGEND_SHAPE_SCALES\n",
    "# Usamos la lista resultado de ordenar y filtrar duplicados llamada aqui \"unique_clades\"\n",
    "label_count = len(unique_clades) # 5 elementos en este caso\n",
    "\n",
    "# Creamos la línea de un sólo tipo de figuras, total lo que importa es el color\n",
    "# Puedes cambiar el '1' por cualquier numero del 1-5, depende de ti cual te guste más\n",
    "shape_line_scale = '\\t'.join(['1']*label_count)\n",
    "shape_line_scale"
   ]
  }
 ],
 "metadata": {
  "kernelspec": {
   "display_name": "Python 3 (ipykernel)",
   "language": "python",
   "name": "python3"
  },
  "language_info": {
   "codemirror_mode": {
    "name": "ipython",
    "version": 3
   },
   "file_extension": ".py",
   "mimetype": "text/x-python",
   "name": "python",
   "nbconvert_exporter": "python",
   "pygments_lexer": "ipython3",
   "version": "3.9.17"
  }
 },
 "nbformat": 4,
 "nbformat_minor": 5
}
