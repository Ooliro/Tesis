{
 "cells": [
  {
   "cell_type": "code",
   "execution_count": null,
   "id": "f53120a8",
   "metadata": {},
   "outputs": [],
   "source": [
    "# Read the contents of lists A, B, and C into variables\n",
    "with open('listA.txt', 'r') as file:\n",
    "    listA = [line.strip() for line in file]\n",
    "\n",
    "with open('listB.txt', 'r') as file:\n",
    "    listB = [line.strip() for line in file]\n",
    "\n",
    "with open('listC.txt', 'r') as file:\n",
    "    listC = [line.strip() for line in file]\n",
    "\n",
    "# Create list D by performing the desired matching and filtering\n",
    "listD = [item for item in listB if item in listA and item in listC]\n",
    "\n",
    "# Write the contents of list D to a file\n",
    "with open('listD.txt', 'w') as file:\n",
    "    file.write('\\n'.join(listD))\n"
   ]
  },
  {
   "cell_type": "code",
   "execution_count": 3,
   "id": "ddddc230",
   "metadata": {},
   "outputs": [
    {
     "name": "stdout",
     "output_type": "stream",
     "text": [
      "[1, 2, 3, 4, 5]\n"
     ]
    }
   ],
   "source": [
    "list_a = [1, 2, 3, 4, 5]\n",
    "list_b = [2, 4, 6, 8, 10]\n",
    "list_c = [3, 6, 9, 12, 15]\n",
    "\n",
    "list_d = []\n",
    "\n",
    "for a in list_a:\n",
    "    for b in list_b:\n",
    "        if a == b:\n",
    "            for c in list_c:\n",
    "                if b == c:\n",
    "                    list_d.append((a, b, c))\n",
    "\n",
    "print(list_a)"
   ]
  },
  {
   "cell_type": "code",
   "execution_count": 5,
   "id": "f4815f27",
   "metadata": {},
   "outputs": [
    {
     "name": "stdout",
     "output_type": "stream",
     "text": [
      "[]\n"
     ]
    }
   ],
   "source": [
    "print(list_d)"
   ]
  }
 ],
 "metadata": {
  "kernelspec": {
   "display_name": "Python 3 (ipykernel)",
   "language": "python",
   "name": "python3"
  },
  "language_info": {
   "codemirror_mode": {
    "name": "ipython",
    "version": 3
   },
   "file_extension": ".py",
   "mimetype": "text/x-python",
   "name": "python",
   "nbconvert_exporter": "python",
   "pygments_lexer": "ipython3",
   "version": "3.9.16"
  }
 },
 "nbformat": 4,
 "nbformat_minor": 5
}
