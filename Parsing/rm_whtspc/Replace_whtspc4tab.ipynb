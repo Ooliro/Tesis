{
 "cells": [
  {
   "cell_type": "code",
   "execution_count": 1,
   "id": "584f495f",
   "metadata": {},
   "outputs": [
    {
     "name": "stdout",
     "output_type": "stream",
     "text": [
      "File's absolute path:/home/raulrosas/Documentos/IFC/Trials/Lab/LuvLab/noheadtail_example.tab\n"
     ]
    }
   ],
   "source": [
    "# Abre el archivo limpio de encabezados y colas innecesarios. \n",
    "# Todos los archivos de salida de HMMER tienen \"#\" al inicio así que purga esos.\n",
    "\n",
    "import re\n",
    "import sys\n",
    "\n",
    "infile = input(\"File's absolute path:\") # Pregunta por la ubicación del archivo a convertir\n",
    "tab = open(infile, 'r')\n",
    "hmm_tab = tab.read()\n",
    "tab.close()\n",
    "\n"
   ]
  },
  {
   "cell_type": "code",
   "execution_count": 7,
   "id": "0904b2fa",
   "metadata": {},
   "outputs": [],
   "source": [
    "hmm_tab = re.sub(' +', ' ',hmm_tab)\n",
    "\n",
    "# Reemplaza varios espacios en blanco por solo uno."
   ]
  },
  {
   "cell_type": "code",
   "execution_count": 8,
   "id": "f1b50c25",
   "metadata": {},
   "outputs": [],
   "source": [
    "# Guarda esta primera tabla delimitada por espacios simples. No es necesario por ahora!\n",
    "\n",
    "#save_tab = open('pre_tabbed.tab','w+')\n",
    "#save_tab.writelines(hmm_tab)\n",
    "#save_tab = save_tab.close()"
   ]
  },
  {
   "cell_type": "code",
   "execution_count": 9,
   "id": "94790f92",
   "metadata": {},
   "outputs": [],
   "source": [
    "# Abre esta primera tabla delimitada por espacios simples\n",
    "\n",
    "#tab2 = open(r'/home/rolivares/Documentos/Tesis/lab/pre_tabbed.tab', 'r')\n",
    "#noht_tab = tab2.read()\n",
    "#tab2.close()"
   ]
  },
  {
   "cell_type": "code",
   "execution_count": 10,
   "id": "cabfd979",
   "metadata": {},
   "outputs": [],
   "source": [
    "final_tab = hmm_tab.replace(' ', '\\t')\n",
    "\n",
    "# Reemplaza los espacios simples por tabs."
   ]
  },
  {
   "cell_type": "code",
   "execution_count": 17,
   "id": "9c489512",
   "metadata": {},
   "outputs": [
    {
     "name": "stdout",
     "output_type": "stream",
     "text": [
      "Done! Your tabbed.tab file is on the same directory as this python script\n"
     ]
    }
   ],
   "source": [
    "save_tab = open('tabbed.tab','w+')\n",
    "\n",
    "save_tab.writelines(final_tab)\n",
    "\n",
    "save_tab = save_tab.close()\n",
    "\n",
    "print(\"Done! Your tabbed.tab file is on the same directory as this python script\")\n",
    "\n",
    "# Guarda esta segunda tabla delimitada por tabs."
   ]
  },
  {
   "cell_type": "code",
   "execution_count": null,
   "id": "bd58a4ff",
   "metadata": {},
   "outputs": [],
   "source": []
  }
 ],
 "metadata": {
  "kernelspec": {
   "display_name": "Python 3 (ipykernel)",
   "language": "python",
   "name": "python3"
  },
  "language_info": {
   "codemirror_mode": {
    "name": "ipython",
    "version": 3
   },
   "file_extension": ".py",
   "mimetype": "text/x-python",
   "name": "python",
   "nbconvert_exporter": "python",
   "pygments_lexer": "ipython3",
   "version": "3.10.6"
  }
 },
 "nbformat": 4,
 "nbformat_minor": 5
}
