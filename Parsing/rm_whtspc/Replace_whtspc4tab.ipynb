{
 "cells": [
  {
   "cell_type": "code",
   "execution_count": null,
   "id": "584f495f",
   "metadata": {},
   "outputs": [],
   "source": [
    "import re\n",
    "\n",
    "tab = open(r'/home/rolivares/Documentos/Tesis/lab/raw_res/noheadtail_specdomt.tab', 'r')\n",
    "hmm_tab = tab.read()\n",
    "tab.close()\n",
    "\n",
    "# Abre el archivo limpio de encabezados y colas innecesarios. Todos los archivos de salida de HMMER tienen \"#\" al inicio así que purga esos."
   ]
  },
  {
   "cell_type": "code",
   "execution_count": null,
   "id": "0904b2fa",
   "metadata": {},
   "outputs": [],
   "source": [
    "hmm_tab = re.sub(' +', ' ',hmm_tab)\n",
    "\n",
    "hmm_tab \n",
    "\n",
    "# Reemplaza varios espacios en blanco por solo uno."
   ]
  },
  {
   "cell_type": "code",
   "execution_count": null,
   "id": "f1b50c25",
   "metadata": {},
   "outputs": [],
   "source": [
    "save_tab = open('pre_tabbed.tab','w+')\n",
    "\n",
    "save_tab.writelines(hmm_tab)\n",
    "\n",
    "save_tab = save_tab.close()\n",
    "\n",
    "# Guarda esta primera tabla delimitada por espacios simples"
   ]
  },
  {
   "cell_type": "code",
   "execution_count": null,
   "id": "94790f92",
   "metadata": {},
   "outputs": [],
   "source": [
    "tab2 = open(r'/home/rolivares/Documentos/Tesis/lab/pre_tabbed.tab', 'r')\n",
    "noht_tab = tab2.read()\n",
    "tab2.close()\n",
    "\n",
    "# Abre esta primera tabla delimitada por espacios simples"
   ]
  },
  {
   "cell_type": "code",
   "execution_count": null,
   "id": "cabfd979",
   "metadata": {},
   "outputs": [],
   "source": [
    "final_tab= noht_tab.replace(' ', '\\t')\n",
    "\n",
    "# Reemplaza los espacios simples por tabs."
   ]
  },
  {
   "cell_type": "code",
   "execution_count": null,
   "id": "9c489512",
   "metadata": {},
   "outputs": [],
   "source": [
    "save_tab = open('tabbed.tab','w+')\n",
    "\n",
    "save_tab.writelines(final_tab)\n",
    "\n",
    "save_tab = save_tab.close()\n",
    "\n",
    "# Guarda esta segunda tabla delimitada por tabs."
   ]
  },
  {
   "cell_type": "code",
   "execution_count": null,
   "id": "1349b3b0",
   "metadata": {},
   "outputs": [],
   "source": []
  }
 ],
 "metadata": {
  "kernelspec": {
   "display_name": "Python 3 (ipykernel)",
   "language": "python",
   "name": "python3"
  },
  "language_info": {
   "codemirror_mode": {
    "name": "ipython",
    "version": 3
   },
   "file_extension": ".py",
   "mimetype": "text/x-python",
   "name": "python",
   "nbconvert_exporter": "python",
   "pygments_lexer": "ipython3",
   "version": "3.9.12"
  }
 },
 "nbformat": 4,
 "nbformat_minor": 5
}
